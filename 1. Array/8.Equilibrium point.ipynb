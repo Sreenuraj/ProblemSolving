{
 "cells": [
  {
   "cell_type": "raw",
   "metadata": {},
   "source": [
    "Given an array A your task is to tell at which position the equilibrium first occurs in the array. Equilibrium position in an array is a position such that the sum of elements below it is equal to the sum of elements after it.\n",
    "\n",
    "Input:\n",
    "The first line of input contains an integer T denoting the no of test cases then T test cases follow. First line of each test case contains an integer N denoting the size of the array. Then in the next line are N space separated values of the array A.\n",
    "\n",
    "Output:\n",
    "For each test case in a new  line print the position at which the elements are at equilibrium if no equilibrium point exists print -1.\n",
    "\n",
    "Constraints:\n",
    "1<=T<=100\n",
    "1<=N<=100\n",
    "\n",
    "Example:\n",
    "Input:\n",
    "2\n",
    "1\n",
    "1\n",
    "5\n",
    "1 3 5 2 2\n",
    "\n",
    "Output:\n",
    "1\n",
    "3\n",
    "\n",
    "Explanation:\n",
    "1. Since its the only element hence its the only equilibrium point\n",
    "2. For second test case equilibrium point is at position 3 as elements below it (1+3) = elements after it (2+2)\n"
   ]
  },
  {
   "cell_type": "code",
   "execution_count": 1,
   "metadata": {
    "collapsed": true
   },
   "outputs": [],
   "source": [
    "def find_equilibrium(arr):\n",
    "    n = len(arr)\n",
    "    for i in range(n):\n",
    "        (left_sum, right_sum) = (0, 0)\n",
    "        \n",
    "        for j in range(i):\n",
    "            left_sum += arr[j]\n",
    "        \n",
    "        for j in range(i+1, n):\n",
    "            right_sum += arr[j]\n",
    "        \n",
    "        if left_sum == right_sum:\n",
    "            return(i + 1)\n",
    "    return -1\n"
   ]
  },
  {
   "cell_type": "code",
   "execution_count": 2,
   "metadata": {},
   "outputs": [
    {
     "data": {
      "text/plain": [
       "1"
      ]
     },
     "execution_count": 2,
     "metadata": {},
     "output_type": "execute_result"
    }
   ],
   "source": [
    "find_equilibrium([1])"
   ]
  },
  {
   "cell_type": "code",
   "execution_count": 3,
   "metadata": {},
   "outputs": [
    {
     "data": {
      "text/plain": [
       "3"
      ]
     },
     "execution_count": 3,
     "metadata": {},
     "output_type": "execute_result"
    }
   ],
   "source": [
    "find_equilibrium([1,3,5,2,2])"
   ]
  },
  {
   "cell_type": "code",
   "execution_count": null,
   "metadata": {
    "collapsed": true
   },
   "outputs": [],
   "source": []
  }
 ],
 "metadata": {
  "kernelspec": {
   "display_name": "Python 3",
   "language": "python",
   "name": "python3"
  },
  "language_info": {
   "codemirror_mode": {
    "name": "ipython",
    "version": 3
   },
   "file_extension": ".py",
   "mimetype": "text/x-python",
   "name": "python",
   "nbconvert_exporter": "python",
   "pygments_lexer": "ipython3",
   "version": "3.6.3"
  }
 },
 "nbformat": 4,
 "nbformat_minor": 2
}
