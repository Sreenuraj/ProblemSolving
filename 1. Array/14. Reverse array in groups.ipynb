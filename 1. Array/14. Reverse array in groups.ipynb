{
 "cells": [
  {
   "cell_type": "raw",
   "metadata": {},
   "source": [
    "Given an array, reverse every sub-array formed by consecutive k elements.\n",
    "\n",
    "Input:\n",
    "\n",
    "The first line of input contains a single integer T denoting the number of test cases. Then T test cases follow. Each test case consist of two lines. The first line of each test case consists of an integer N, where N is the size of array.The second line of each test case contains N space separated integers denoting array elements.The third line of each test case consists of an integer K.\n",
    "\n",
    "Output:\n",
    "Corresponding to each test case, in a new line, print the modified array.\n",
    "\n",
    "Constraints:\n",
    "\n",
    "1 ≤ T ≤ 100\n",
    "1 ≤ N ≤ 500\n",
    "1 ≤ A[i] ≤ 500\n",
    "\n",
    "Example:\n",
    "\n",
    "Input\n",
    "1\n",
    "5\n",
    "1 2 3 4 5\n",
    "3\n",
    "\n",
    "Output\n",
    "3 2 1 5 4\n",
    "\n"
   ]
  },
  {
   "cell_type": "code",
   "execution_count": 3,
   "metadata": {
    "collapsed": true
   },
   "outputs": [],
   "source": [
    "def reverse_arr(arr, key):\n",
    "    n = len(arr)\n",
    "    i = 0\n",
    "    \n",
    "    while(i < n):\n",
    "        left = i\n",
    "        right = min(i + key - 1, n - 1)\n",
    "        print('i ===', i)\n",
    "        print('left ===', left)\n",
    "        print('right ===', right)\n",
    "        \n",
    "        while(left < right):\n",
    "            arr[left], arr[right] = arr[right], arr[left]\n",
    "            left += 1\n",
    "            right -= 1\n",
    "        \n",
    "        i += key\n",
    "    return arr"
   ]
  },
  {
   "cell_type": "code",
   "execution_count": 5,
   "metadata": {},
   "outputs": [
    {
     "name": "stdout",
     "output_type": "stream",
     "text": [
      "i === 0\n",
      "left === 0\n",
      "right === 3\n",
      "i === 4\n",
      "left === 4\n",
      "right === 5\n"
     ]
    },
    {
     "data": {
      "text/plain": [
       "[4, 3, 2, 1, 6, 5]"
      ]
     },
     "execution_count": 5,
     "metadata": {},
     "output_type": "execute_result"
    }
   ],
   "source": [
    "reverse_arr([1,2,3,4,5,6], 4)"
   ]
  },
  {
   "cell_type": "code",
   "execution_count": 8,
   "metadata": {},
   "outputs": [
    {
     "ename": "AttributeError",
     "evalue": "'str' object has no attribute 'sort'",
     "output_type": "error",
     "traceback": [
      "\u001b[0;31m---------------------------------------------------------------------------\u001b[0m",
      "\u001b[0;31mAttributeError\u001b[0m                            Traceback (most recent call last)",
      "\u001b[0;32m<ipython-input-8-18e727068639>\u001b[0m in \u001b[0;36m<module>\u001b[0;34m()\u001b[0m\n\u001b[1;32m      1\u001b[0m \u001b[0ms\u001b[0m \u001b[0;34m=\u001b[0m \u001b[0;34m'sreenu'\u001b[0m\u001b[0;34m\u001b[0m\u001b[0m\n\u001b[0;32m----> 2\u001b[0;31m \u001b[0ms\u001b[0m\u001b[0;34m.\u001b[0m\u001b[0msort\u001b[0m\u001b[0;34m(\u001b[0m\u001b[0;34m)\u001b[0m\u001b[0;34m\u001b[0m\u001b[0m\n\u001b[0m",
      "\u001b[0;31mAttributeError\u001b[0m: 'str' object has no attribute 'sort'"
     ]
    }
   ],
   "source": [
    "s = 'sreenu'\n",
    "s.sort()\n"
   ]
  },
  {
   "cell_type": "code",
   "execution_count": null,
   "metadata": {
    "collapsed": true
   },
   "outputs": [],
   "source": []
  }
 ],
 "metadata": {
  "kernelspec": {
   "display_name": "Python 3",
   "language": "python",
   "name": "python3"
  },
  "language_info": {
   "codemirror_mode": {
    "name": "ipython",
    "version": 3
   },
   "file_extension": ".py",
   "mimetype": "text/x-python",
   "name": "python",
   "nbconvert_exporter": "python",
   "pygments_lexer": "ipython3",
   "version": "3.6.3"
  }
 },
 "nbformat": 4,
 "nbformat_minor": 2
}
