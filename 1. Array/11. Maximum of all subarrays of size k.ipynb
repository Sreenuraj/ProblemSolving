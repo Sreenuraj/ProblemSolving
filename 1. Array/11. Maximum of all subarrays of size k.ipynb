{
 "cells": [
  {
   "cell_type": "raw",
   "metadata": {},
   "source": [
    "Given an array and an integer k, find the maximum for each and every contiguous subarray of size k.\n",
    "\n",
    "Input:\n",
    "The first line of input contains an integer T denoting the number of test cases. The description of T test cases follows.\n",
    "The first line of each test case contains a single integer 'N' denoting the size of array and the size of subarray 'k'.\n",
    "The second line contains 'N' space-separated integers A1, A2, ..., AN denoting the elements of the array.\n",
    "\n",
    "Output:\n",
    "Print the maximum for every subarray of size k.\n",
    "\n",
    "Constraints:\n",
    "1 ≤ T ≤ 200\n",
    "1 ≤ N ≤ 100\n",
    "1 ≤ k ≤ N\n",
    "0 ≤A[i]<1000\n",
    "\n",
    "Example:\n",
    "\n",
    "Input:\n",
    "2\n",
    "9 3\n",
    "1 2 3 1 4 5 2 3 6\n",
    "10 4\n",
    "8 5 10 7 9 4 15 12 90 13\n",
    "\n",
    "Output:\n",
    "3 3 4 5 5 5 6\n",
    "10 10 10 15 15 90 90"
   ]
  },
  {
   "cell_type": "code",
   "execution_count": 1,
   "metadata": {
    "collapsed": true
   },
   "outputs": [],
   "source": [
    "def max_from_subarr(arr, k):\n",
    "    n = len(arr)\n",
    "    out = []\n",
    "    for i in range(n-(k-1)):\n",
    "        max_val = 0\n",
    "        for j in range(i, i+k):\n",
    "            if max_val < arr[j]:\n",
    "                max_val = arr[j]\n",
    "                \n",
    "        out.append(max_val)\n",
    "    return out\n",
    "    "
   ]
  },
  {
   "cell_type": "code",
   "execution_count": 2,
   "metadata": {},
   "outputs": [
    {
     "data": {
      "text/plain": [
       "[3, 3, 4, 5, 5, 5, 6]"
      ]
     },
     "execution_count": 2,
     "metadata": {},
     "output_type": "execute_result"
    }
   ],
   "source": [
    "max_from_subarr([1, 2, 3, 1, 4, 5, 2, 3, 6],3)"
   ]
  },
  {
   "cell_type": "code",
   "execution_count": 3,
   "metadata": {},
   "outputs": [
    {
     "data": {
      "text/plain": [
       "[10, 10, 10, 15, 15, 90, 90]"
      ]
     },
     "execution_count": 3,
     "metadata": {},
     "output_type": "execute_result"
    }
   ],
   "source": [
    "max_from_subarr([8, 5, 10, 7, 9, 4, 15, 12, 90, 13],4)"
   ]
  },
  {
   "cell_type": "code",
   "execution_count": null,
   "metadata": {
    "collapsed": true
   },
   "outputs": [],
   "source": []
  }
 ],
 "metadata": {
  "kernelspec": {
   "display_name": "Python 3",
   "language": "python",
   "name": "python3"
  },
  "language_info": {
   "codemirror_mode": {
    "name": "ipython",
    "version": 3
   },
   "file_extension": ".py",
   "mimetype": "text/x-python",
   "name": "python",
   "nbconvert_exporter": "python",
   "pygments_lexer": "ipython3",
   "version": "3.6.3"
  }
 },
 "nbformat": 4,
 "nbformat_minor": 2
}
