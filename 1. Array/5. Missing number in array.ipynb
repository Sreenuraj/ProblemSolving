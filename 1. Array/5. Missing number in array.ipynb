{
 "cells": [
  {
   "cell_type": "raw",
   "metadata": {},
   "source": [
    "Given an array of size n-1 and given that there are numbers from 1 to n with one missing, the missing number is to be found.\n",
    "\n",
    "Input:\n",
    "\n",
    "The first line of input contains an integer T denoting the number of test cases.\n",
    "The first line of each test case is N.\n",
    "The second line of each test case contains N-1 input C[i],numbers in array.\n",
    "\n",
    "Output:\n",
    "\n",
    "Print the missing number in array.\n",
    "\n",
    "Constraints:\n",
    "\n",
    "1 ≤ T ≤ 200\n",
    "1 ≤ N ≤ 1000\n",
    "1 ≤ C[i] ≤ 1000\n",
    "\n",
    "Example:\n",
    "\n",
    "Input\n",
    "2\n",
    "5\n",
    "1 2 3 5\n",
    "10\n",
    "1 2 3 4 5 6 7 8 10\n",
    "\n",
    "Output\n",
    "4\n",
    "9"
   ]
  },
  {
   "cell_type": "code",
   "execution_count": null,
   "metadata": {
    "collapsed": true
   },
   "outputs": [],
   "source": [
    "n = int(input().strip())\n",
    "for each in range(n):\n",
    "    length = int(input().strip())\n",
    "    a = [int(arr_temp) for arr_temp in input().strip().split(' ')]\n",
    "    sum1 = 0\n",
    "    sum2 = 0\n",
    "    for i in range(length+1):\n",
    "        sum1 += i\n",
    "    for j in a:\n",
    "        sum2 += j\n",
    "    \n",
    "    print(sum1 - sum2)"
   ]
  }
 ],
 "metadata": {
  "kernelspec": {
   "display_name": "Python 3",
   "language": "python",
   "name": "python3"
  },
  "language_info": {
   "codemirror_mode": {
    "name": "ipython",
    "version": 3
   },
   "file_extension": ".py",
   "mimetype": "text/x-python",
   "name": "python",
   "nbconvert_exporter": "python",
   "pygments_lexer": "ipython3",
   "version": "3.6.3"
  }
 },
 "nbformat": 4,
 "nbformat_minor": 2
}
