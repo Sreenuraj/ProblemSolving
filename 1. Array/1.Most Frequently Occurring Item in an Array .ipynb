{
 "cells": [
  {
   "cell_type": "markdown",
   "metadata": {},
   "source": [
    "## Find the most frequently occurring item in an array.\n",
    "\n",
    "Example: The most frequently occurring item in [1, 3, 1, 3, 2, 1] is 1.\n",
    "If you're given an empty array return None.\n",
    "\n",
    "You can assume that there is always a single, unique value that appears most frequently unless the array is empty.  For instance, you won't be given an array such as [1, 1, 2, 2].\n"
   ]
  },
  {
   "cell_type": "code",
   "execution_count": 68,
   "metadata": {
    "collapsed": true
   },
   "outputs": [],
   "source": [
    "# Implementing O(n) where n is the number of items in the array\n",
    "def most_frequent(given_list):\n",
    "    max_item = None\n",
    "    max_count = 0\n",
    "    count = {}\n",
    "    for each in given_list:\n",
    "        if each not in count:\n",
    "            count[each] = 1\n",
    "        else:\n",
    "            count[each] +=1\n",
    "        if count[each] > max_count:\n",
    "            max_item = each\n",
    "            max_count = count[each]\n",
    "    \n",
    "    return max_item"
   ]
  },
  {
   "cell_type": "code",
   "execution_count": 69,
   "metadata": {},
   "outputs": [
    {
     "data": {
      "text/plain": [
       "1"
      ]
     },
     "execution_count": 69,
     "metadata": {},
     "output_type": "execute_result"
    }
   ],
   "source": [
    "#most_frequent(list1) should return 1\n",
    "list1 = [1, 3, 1, 3, 2, 1]\n",
    "most_frequent(list1)"
   ]
  },
  {
   "cell_type": "code",
   "execution_count": 70,
   "metadata": {},
   "outputs": [
    {
     "data": {
      "text/plain": [
       "3"
      ]
     },
     "execution_count": 70,
     "metadata": {},
     "output_type": "execute_result"
    }
   ],
   "source": [
    "# most_frequent(list2) should return 3\n",
    "list2 = [3, 3, 1, 3, 2, 1]\n",
    "most_frequent(list2)"
   ]
  },
  {
   "cell_type": "code",
   "execution_count": 71,
   "metadata": {
    "collapsed": true
   },
   "outputs": [],
   "source": [
    "# most_frequent(list3) should return None\n",
    "list3 = []\n",
    "most_frequent(list3)"
   ]
  },
  {
   "cell_type": "code",
   "execution_count": 72,
   "metadata": {},
   "outputs": [
    {
     "data": {
      "text/plain": [
       "0"
      ]
     },
     "execution_count": 72,
     "metadata": {},
     "output_type": "execute_result"
    }
   ],
   "source": [
    "# most_frequent(list4) should return 0\n",
    "list4 = [0]\n",
    "most_frequent(list4)"
   ]
  },
  {
   "cell_type": "code",
   "execution_count": 73,
   "metadata": {},
   "outputs": [
    {
     "data": {
      "text/plain": [
       "-1"
      ]
     },
     "execution_count": 73,
     "metadata": {},
     "output_type": "execute_result"
    }
   ],
   "source": [
    "# most_frequent(list5) should return -1\n",
    "list5 = [0, -1, 10, 10, -1, 10, -1, -1, -1, 1]\n",
    "most_frequent(list5)"
   ]
  },
  {
   "cell_type": "code",
   "execution_count": null,
   "metadata": {
    "collapsed": true
   },
   "outputs": [],
   "source": []
  }
 ],
 "metadata": {
  "kernelspec": {
   "display_name": "Python 3",
   "language": "python",
   "name": "python3"
  },
  "language_info": {
   "codemirror_mode": {
    "name": "ipython",
    "version": 3
   },
   "file_extension": ".py",
   "mimetype": "text/x-python",
   "name": "python",
   "nbconvert_exporter": "python",
   "pygments_lexer": "ipython3",
   "version": "3.6.3"
  }
 },
 "nbformat": 4,
 "nbformat_minor": 2
}
