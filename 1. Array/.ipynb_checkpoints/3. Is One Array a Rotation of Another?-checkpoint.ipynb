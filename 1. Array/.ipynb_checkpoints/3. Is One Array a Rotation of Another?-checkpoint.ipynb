{
 "cells": [
  {
   "cell_type": "raw",
   "metadata": {},
   "source": [
    "# Write a function that returns True if one array is a rotation of another.\n",
    "\n",
    "Example: [1, 2, 3, 4, 5, 6, 7] is a rotation of [4, 5, 6, 7, 1, 2, 3].\n",
    "NOTE: There are no duplicates in each of these arrays."
   ]
  },
  {
   "cell_type": "code",
   "execution_count": 98,
   "metadata": {
    "collapsed": true
   },
   "outputs": [],
   "source": [
    "# Implement your function below using O(n) where n is the length of an array\n",
    "def is_rotation(list1, list2):\n",
    "    if len(list1)!=len(list2):\n",
    "        return False\n",
    "    length = len(list1)\n",
    "    i=0\n",
    "    start=0\n",
    "    first_list1 = list1[0]\n",
    "    for b in list2:\n",
    "        if first_list1 == b:\n",
    "            start = i\n",
    "            break\n",
    "        i += 1\n",
    "    \n",
    "    for a in list1:\n",
    "        if a == list2[start]:\n",
    "            start +=1\n",
    "            if length == start:\n",
    "                start=0\n",
    "        else:\n",
    "            return False\n",
    "    return True\n",
    "       "
   ]
  },
  {
   "cell_type": "code",
   "execution_count": 99,
   "metadata": {},
   "outputs": [
    {
     "data": {
      "text/plain": [
       "False"
      ]
     },
     "execution_count": 99,
     "metadata": {},
     "output_type": "execute_result"
    }
   ],
   "source": [
    "# NOTE: The following input values will be used for testing your solution.\n",
    "list1 = [1, 2, 3, 4, 5, 6, 7]\n",
    "list2a = [4, 5, 6, 7, 8, 1, 2, 3]\n",
    "# is_rotation(list1, list2a) should return False.\n",
    "is_rotation(list1, list2a)"
   ]
  },
  {
   "cell_type": "code",
   "execution_count": 100,
   "metadata": {},
   "outputs": [
    {
     "data": {
      "text/plain": [
       "True"
      ]
     },
     "execution_count": 100,
     "metadata": {},
     "output_type": "execute_result"
    }
   ],
   "source": [
    "list2b = [4, 5, 6, 7, 1, 2, 3]\n",
    "# is_rotation(list1, list2b) should return True.\n",
    "is_rotation(list1, list2b)"
   ]
  },
  {
   "cell_type": "code",
   "execution_count": 101,
   "metadata": {},
   "outputs": [
    {
     "data": {
      "text/plain": [
       "False"
      ]
     },
     "execution_count": 101,
     "metadata": {},
     "output_type": "execute_result"
    }
   ],
   "source": [
    "list2c = [4, 5, 6, 9, 1, 2, 3]\n",
    "# is_rotation(list1, list2c) should return False.\n",
    "is_rotation(list1, list2c)"
   ]
  },
  {
   "cell_type": "code",
   "execution_count": 102,
   "metadata": {},
   "outputs": [
    {
     "data": {
      "text/plain": [
       "False"
      ]
     },
     "execution_count": 102,
     "metadata": {},
     "output_type": "execute_result"
    }
   ],
   "source": [
    "list2d = [4, 6, 5, 7, 1, 2, 3]\n",
    "# is_rotation(list1, list2d) should return False.\n",
    "is_rotation(list1, list2d)"
   ]
  },
  {
   "cell_type": "code",
   "execution_count": 103,
   "metadata": {},
   "outputs": [
    {
     "data": {
      "text/plain": [
       "False"
      ]
     },
     "execution_count": 103,
     "metadata": {},
     "output_type": "execute_result"
    }
   ],
   "source": [
    "list2e = [4, 5, 6, 7, 0, 2, 3]\n",
    "# is_rotation(list1, list2e) should return False.\n",
    "is_rotation(list1, list2e)"
   ]
  },
  {
   "cell_type": "code",
   "execution_count": 104,
   "metadata": {},
   "outputs": [
    {
     "data": {
      "text/plain": [
       "True"
      ]
     },
     "execution_count": 104,
     "metadata": {},
     "output_type": "execute_result"
    }
   ],
   "source": [
    "list2f = [1, 2, 3, 4, 5, 6, 7]\n",
    "# is_rotation(list1, list2f) should return True.\n",
    "is_rotation(list1, list2f)"
   ]
  },
  {
   "cell_type": "code",
   "execution_count": null,
   "metadata": {
    "collapsed": true
   },
   "outputs": [],
   "source": []
  }
 ],
 "metadata": {
  "kernelspec": {
   "display_name": "Python 3",
   "language": "python",
   "name": "python3"
  },
  "language_info": {
   "codemirror_mode": {
    "name": "ipython",
    "version": 3
   },
   "file_extension": ".py",
   "mimetype": "text/x-python",
   "name": "python",
   "nbconvert_exporter": "python",
   "pygments_lexer": "ipython3",
   "version": "3.6.3"
  }
 },
 "nbformat": 4,
 "nbformat_minor": 2
}
