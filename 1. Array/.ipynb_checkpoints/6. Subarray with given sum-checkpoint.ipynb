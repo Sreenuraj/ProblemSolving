{
 "cells": [
  {
   "cell_type": "raw",
   "metadata": {},
   "source": [
    "Given an unsorted array of non-negative integers, find a continuous sub-array which adds to a given number.\n",
    "\n",
    "Input:\n",
    "\n",
    "The first line of input contains an integer T denoting the number of test cases. Then T test cases follow. Each test case consists of two lines. The first line of each test case is N and S, where N is the size of array and S is the sum. The second line of each test case contains N space separated integers denoting the array elements.\n",
    "\n",
    "Output:\n",
    "\n",
    "Corresponding to each test case, in a new line, print the starting and ending positions of first such occuring subarray if sum equals to subarray, else print -1.\n",
    "\n",
    "Note: Position of 1st element of the array should be considered as 1.\n",
    "\n",
    "Expected Time Complexity: O(n)\n",
    "\n",
    "Constraints:\n",
    "1 ≤ T ≤ 100\n",
    "1 ≤ N ≤ 100\n",
    "1 ≤ an array element ≤ 200\n",
    "\n",
    "Example:\n",
    "\n",
    "Input:\n",
    "2\n",
    "5 12\n",
    "1 2 3 7 5\n",
    "10 15\n",
    "1 2 3 4 5 6 7 8 9 10\n",
    "\n",
    "Output:\n",
    "2 4\n",
    "1 5\n",
    "\n",
    "Explanation : \n",
    "In first test case, sum of elements from 2nd position to 4th position is 12\n",
    "In second test case, sum of elements from 1st position to 5th position is 15\n",
    "\n"
   ]
  },
  {
   "cell_type": "code",
   "execution_count": null,
   "metadata": {
    "collapsed": true
   },
   "outputs": [],
   "source": [
    "t = int(input().strip())\n",
    "def out(n, s,arr):\n",
    "    sum1 = 0\n",
    "    for i in range(n):\n",
    "        sum1 = 0\n",
    "        j = i\n",
    "        #print(i)\n",
    "        while j<(n):\n",
    "            #print(i, j)\n",
    "            sum1 += arr[j]\n",
    "            if sum1 == s:\n",
    "                return i+1, j+1\n",
    "            elif sum1 > s:\n",
    "                break\n",
    "            j += 1\n",
    "    return(-1, 0)\n",
    "            \n",
    "for each in range(t):\n",
    "    (n, s) = [int(arr_temp) for arr_temp in input().strip().split(' ')]\n",
    "    arr = [int(arr_temp) for arr_temp in input().strip().split(' ')]\n",
    "    \n",
    "    (i, j) = out(n, s, arr)\n",
    "    if i == -1:\n",
    "        print(-1)\n",
    "    else:\n",
    "        print(i, j)"
   ]
  }
 ],
 "metadata": {
  "kernelspec": {
   "display_name": "Python 3",
   "language": "python",
   "name": "python3"
  },
  "language_info": {
   "codemirror_mode": {
    "name": "ipython",
    "version": 3
   },
   "file_extension": ".py",
   "mimetype": "text/x-python",
   "name": "python",
   "nbconvert_exporter": "python",
   "pygments_lexer": "ipython3",
   "version": "3.6.3"
  }
 },
 "nbformat": 4,
 "nbformat_minor": 2
}
