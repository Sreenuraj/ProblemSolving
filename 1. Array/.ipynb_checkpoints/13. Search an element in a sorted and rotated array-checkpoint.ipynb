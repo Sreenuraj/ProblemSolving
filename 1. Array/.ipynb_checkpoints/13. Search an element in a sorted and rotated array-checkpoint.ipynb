{
 "cells": [
  {
   "cell_type": "raw",
   "metadata": {},
   "source": [
    "An element in a sorted array can be found in O(log n) time via binary search. But suppose we rotate an ascending order sorted array at some pivot unknown to you beforehand. So for instance, 1 2 3 4 5 might become 3 4 5 1 2. Devise a way to find an element in the rotated array in O(log n) time.\n",
    "\n",
    "sortedPivotedArray\n",
    "\n",
    "Input  : arr[] = {5, 6, 7, 8, 9, 10, 1, 2, 3};\n",
    "         key = 3\n",
    "Output : Found at index 8\n",
    "\n",
    "Input  : arr[] = {5, 6, 7, 8, 9, 10, 1, 2, 3};\n",
    "         key = 30\n",
    "Output : Not found\n",
    "\n",
    "Input : arr[] = {30, 40, 50, 10, 20}\n",
    "        key = 10   \n",
    "Output : Found at index 3"
   ]
  },
  {
   "cell_type": "code",
   "execution_count": 2,
   "metadata": {
    "collapsed": true
   },
   "outputs": [],
   "source": [
    "def search(arr, low, high, key):\n",
    "    if low > high:\n",
    "        return -1\n",
    "    \n",
    "    mid = (low + high)//2\n",
    "    if arr[mid] == key:\n",
    "        return mid\n",
    "    \n",
    "    # if the array low to mid we get is sorted\n",
    "    if arr[low] <= arr[mid]:\n",
    "        if key >= arr[low] and key <= arr[mid]:\n",
    "            return search(arr, low, mid-1, key)\n",
    "        else:\n",
    "            return search(arr, mid+1, high, key)\n",
    "    \n",
    "    # if the array low to mid we get is not-sorted\n",
    "    if key >= arr[mid] and key <= arr[high]:\n",
    "        return search(arr, mid+1, high, key)\n",
    "    else:\n",
    "        return search(arr, low, mid-1, key)\n",
    "    \n",
    "    "
   ]
  },
  {
   "cell_type": "code",
   "execution_count": 7,
   "metadata": {},
   "outputs": [
    {
     "data": {
      "text/plain": [
       "1"
      ]
     },
     "execution_count": 7,
     "metadata": {},
     "output_type": "execute_result"
    }
   ],
   "source": [
    "a = [1,2,3,4,5,6]\n",
    "length = len(a)-1\n",
    "key = 2\n",
    "search(a, 0, length, key)"
   ]
  },
  {
   "cell_type": "code",
   "execution_count": 7,
   "metadata": {},
   "outputs": [
    {
     "data": {
      "text/plain": [
       "2"
      ]
     },
     "execution_count": 7,
     "metadata": {},
     "output_type": "execute_result"
    }
   ],
   "source": [
    "mid"
   ]
  },
  {
   "cell_type": "code",
   "execution_count": null,
   "metadata": {
    "collapsed": true
   },
   "outputs": [],
   "source": []
  }
 ],
 "metadata": {
  "kernelspec": {
   "display_name": "Python 3",
   "language": "python",
   "name": "python3"
  },
  "language_info": {
   "codemirror_mode": {
    "name": "ipython",
    "version": 3
   },
   "file_extension": ".py",
   "mimetype": "text/x-python",
   "name": "python",
   "nbconvert_exporter": "python",
   "pygments_lexer": "ipython3",
   "version": "3.6.3"
  }
 },
 "nbformat": 4,
 "nbformat_minor": 2
}
