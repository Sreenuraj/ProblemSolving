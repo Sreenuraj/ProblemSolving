{
 "cells": [
  {
   "cell_type": "markdown",
   "metadata": {},
   "source": [
    "# Given an array containing both negative and positive integers. Find the contiguous sub-array with maximum sum.\n",
    " \n",
    "Input:\n",
    "The first line of input contains an integer T denoting the number of test cases. The description of T test cases follows. The first line of each test case contains a single integer N denoting the size of array. The second line contains N space-separated integers A1, A2, ..., AN denoting the elements of the array.\n",
    " \n",
    "Output:\n",
    "Print the maximum sum of the contiguous sub-array in a separate line for each test case.\n",
    "\n",
    "## Example:\n",
    "### Input\n",
    "2<br>\n",
    "3<br>\n",
    "1 2 3<br>\n",
    "4<br>\n",
    "-1 -2 -3 -4\n",
    "## Output\n",
    "6<br>\n",
    "-1"
   ]
  },
  {
   "cell_type": "code",
   "execution_count": 3,
   "metadata": {},
   "outputs": [
    {
     "name": "stdout",
     "output_type": "stream",
     "text": [
      "1\n",
      "4\n",
      "23 23 -98 4\n",
      "46\n"
     ]
    }
   ],
   "source": [
    "# Implementing\n",
    "n = int(input().strip())\n",
    "for each in range(n):\n",
    "    length = int(input().strip())\n",
    "    arr = [int(arr_temp) for arr_temp in input().strip().split(' ')]\n",
    "    max_sum = sum = arr[0]\n",
    "    for i in range(1, length):\n",
    "        max_sum = max(arr[i], max_sum + arr[i])\n",
    "        sum = max(max_sum, sum)\n",
    "    print(sum)"
   ]
  },
  {
   "cell_type": "code",
   "execution_count": null,
   "metadata": {
    "collapsed": true
   },
   "outputs": [],
   "source": []
  },
  {
   "cell_type": "code",
   "execution_count": null,
   "metadata": {
    "collapsed": true
   },
   "outputs": [],
   "source": []
  }
 ],
 "metadata": {
  "kernelspec": {
   "display_name": "Python 3",
   "language": "python",
   "name": "python3"
  },
  "language_info": {
   "codemirror_mode": {
    "name": "ipython",
    "version": 3
   },
   "file_extension": ".py",
   "mimetype": "text/x-python",
   "name": "python",
   "nbconvert_exporter": "python",
   "pygments_lexer": "ipython3",
   "version": "3.6.3"
  }
 },
 "nbformat": 4,
 "nbformat_minor": 2
}
