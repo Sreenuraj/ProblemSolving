{
 "cells": [
  {
   "cell_type": "raw",
   "metadata": {},
   "source": [
    "Given an array of n positive integers. Write a program to find the sum of maximum sum subsequence of the given array such that the integers in the subsequence are sorted in increasing order.\n",
    "\n",
    "Input:\n",
    "\n",
    "The first line of input contains an integer T denoting the number of test cases.\n",
    "The first line of each test case is N,N is the size of array.\n",
    "The second line of each test case contains N input A[].\n",
    "\n",
    "Output:\n",
    "\n",
    "Print the sum of maximum sum sequence of the given array.\n",
    "\n",
    "Constraints:\n",
    "\n",
    "1 ≤ T ≤ 100\n",
    "1 ≤ N ≤ 100\n",
    "1 ≤ A[] ≤ 1000\n",
    "\n",
    "Example:\n",
    "\n",
    "Input:\n",
    "2\n",
    "7\n",
    "1 101 2 3 100 4 5\n",
    "4\n",
    "10 5 4 3\n",
    "\n",
    "Output:\n",
    "106\n",
    "10\n",
    "\n",
    "Explanation:\n",
    "For input:\n",
    "7\n",
    "1 101 2 3 100 4 5\n",
    "All the increasing subsequences : (1,101); (1,2,3,100); (1,2,3,4,5), out of this (1,2,3,100) has maximum sum,i.e., 106. Hence the output is stated as 106."
   ]
  },
  {
   "cell_type": "code",
   "execution_count": 5,
   "metadata": {
    "collapsed": true
   },
   "outputs": [],
   "source": [
    "def max_sum(arr):\n",
    "    length = len(arr)\n",
    "    arr_temp = [0 for i in range(length)]\n",
    "    sum1 = 0\n",
    "    for i in range(length):\n",
    "        arr_temp[i] = arr[i]\n",
    "    \n",
    "    for i in range(1, length):\n",
    "        for j in range(i):\n",
    "            if arr[i] > arr[j] and arr_temp[i] < arr[i] + arr_temp[j]:\n",
    "                arr_temp[i] = arr[i] + arr_temp[j]\n",
    "    \n",
    "    for i in range(length):\n",
    "        if sum1 < arr_temp[i]:\n",
    "            sum1 = arr_temp[i]\n",
    "    \n",
    "    return sum1\n"
   ]
  },
  {
   "cell_type": "code",
   "execution_count": 6,
   "metadata": {},
   "outputs": [
    {
     "data": {
      "text/plain": [
       "106"
      ]
     },
     "execution_count": 6,
     "metadata": {},
     "output_type": "execute_result"
    }
   ],
   "source": [
    "max_sum([1, 101, 2, 3, 100, 4, 5])"
   ]
  },
  {
   "cell_type": "code",
   "execution_count": 8,
   "metadata": {},
   "outputs": [
    {
     "data": {
      "text/plain": [
       "10"
      ]
     },
     "execution_count": 8,
     "metadata": {},
     "output_type": "execute_result"
    }
   ],
   "source": [
    "max_sum([10, 5, 4, 3])"
   ]
  },
  {
   "cell_type": "code",
   "execution_count": null,
   "metadata": {
    "collapsed": true
   },
   "outputs": [],
   "source": []
  }
 ],
 "metadata": {
  "kernelspec": {
   "display_name": "Python 3",
   "language": "python",
   "name": "python3"
  },
  "language_info": {
   "codemirror_mode": {
    "name": "ipython",
    "version": 3
   },
   "file_extension": ".py",
   "mimetype": "text/x-python",
   "name": "python",
   "nbconvert_exporter": "python",
   "pygments_lexer": "ipython3",
   "version": "3.6.3"
  }
 },
 "nbformat": 4,
 "nbformat_minor": 2
}
