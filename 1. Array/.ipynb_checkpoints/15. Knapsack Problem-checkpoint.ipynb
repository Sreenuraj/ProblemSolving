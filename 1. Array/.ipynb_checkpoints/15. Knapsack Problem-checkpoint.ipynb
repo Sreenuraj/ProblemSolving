{
 "cells": [
  {
   "cell_type": "markdown",
   "metadata": {},
   "source": [
    "You are given weights and values of N items, put these items in a knapsack of capacity W to get the maximum total value in the knapsack. Note that we have only one quantity of each item, In other words, given two integer arrays val[0..N-1] and wt[0..N-1] which represent values and weights associated with N items respectively. Also given an integer W which represents knapsack capacity, find out the maximum value subset of val[] such that sum of the weights of this subset is smaller than or equal to W. You cannot break an item, either pick the complete item, or don’t pick it (0-1 property).\n",
    " \n",
    "\n",
    "Input:\n",
    "\n",
    "The first line of input contains an integer T denoting the number of test cases. Then T test cases follow. Each test case consists of four lines. The first line consists of N the number of items. The second line consists of W, the maximum capacity of the knapsack. In the next  line are N space separated positive integers denoting the values of the N items and in the fourth line are N space separated positive integers denoting the weights of the corresponding items.\n",
    " \n",
    "\n",
    "Output:\n",
    "\n",
    "Print the maximum possible value you can get with the given conditions that you can obtain for each test case in a new line.\n",
    " \n",
    "\n",
    "Constraints:\n",
    "\n",
    "1≤T≤100\n",
    "\n",
    "1≤N≤100\n",
    "\n",
    "1≤W≤100\n",
    "\n",
    "1≤wt[i]≤100\n",
    "\n",
    "1≤v[i]≤100\n",
    "\n",
    "\n",
    "Example:\n",
    "\n",
    "Input:\n",
    "1\n",
    "3\n",
    "4\n",
    "1 2 3\n",
    "4 5 1\n",
    "Output:\n",
    "3"
   ]
  },
  {
   "cell_type": "code",
   "execution_count": 1,
   "metadata": {
    "collapsed": true
   },
   "outputs": [],
   "source": [
    "def knapsack(W, wt, val, n):\n",
    "    K = [[0 for x in range(W+1)] for x in range(n+1)]\n",
    "    print(K)\n",
    " \n",
    "    # Build table K[][] in bottom up manner\n",
    "    for i in range(n+1):\n",
    "        for w in range(W+1):\n",
    "            if i==0 or w==0:\n",
    "                K[i][w] = 0\n",
    "            elif wt[i-1] <= w:\n",
    "                K[i][w] = max(val[i-1] + K[i-1][w-wt[i-1]],  K[i-1][w])\n",
    "            else:\n",
    "                K[i][w] = K[i-1][w]\n",
    " \n",
    "    print K[n][W]\n",
    "    "
   ]
  },
  {
   "cell_type": "code",
   "execution_count": 3,
   "metadata": {},
   "outputs": [
    {
     "name": "stdout",
     "output_type": "stream",
     "text": [
      "[[0, 0, 0, 0, 0], [0, 0, 0, 0, 0], [0, 0, 0, 0, 0], [0, 0, 0, 0, 0]]\n"
     ]
    },
    {
     "data": {
      "text/plain": [
       "3"
      ]
     },
     "execution_count": 3,
     "metadata": {},
     "output_type": "execute_result"
    }
   ],
   "source": [
    "W=4\n",
    "val = [1,2,3]\n",
    "wt = [4,5,1]\n",
    "n = len(val)\n",
    "knapsack(W, wt, val, n)"
   ]
  },
  {
   "cell_type": "code",
   "execution_count": null,
   "metadata": {
    "collapsed": true
   },
   "outputs": [],
   "source": []
  }
 ],
 "metadata": {
  "kernelspec": {
   "display_name": "Python 3",
   "language": "python",
   "name": "python3"
  },
  "language_info": {
   "codemirror_mode": {
    "name": "ipython",
    "version": 3
   },
   "file_extension": ".py",
   "mimetype": "text/x-python",
   "name": "python",
   "nbconvert_exporter": "python",
   "pygments_lexer": "ipython3",
   "version": "3.6.3"
  }
 },
 "nbformat": 4,
 "nbformat_minor": 2
}
