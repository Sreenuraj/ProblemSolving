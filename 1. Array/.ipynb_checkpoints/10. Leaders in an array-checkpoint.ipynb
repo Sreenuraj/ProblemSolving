{
 "cells": [
  {
   "cell_type": "raw",
   "metadata": {},
   "source": [
    "Write a program to print all the LEADERS in the array. An element is leader if it is greater than all the elements to its right side. The rightmost element is always a leader. \n",
    "\n",
    "Input:\n",
    "The first line of input contains an integer T denoting the number of test cases. The description of T test cases follows.\n",
    "The first line of each test case contains a single integer N denoting the size of array.\n",
    "The second line contains N space-separated integers A1, A2, ..., AN denoting the elements of the array.\n",
    "\n",
    "Output:\n",
    "Print all the leaders.\n",
    "\n",
    "Constraints:\n",
    "1 <= T <= 100\n",
    "1 <= N <= 100\n",
    "0 <= A[i]<=100\n",
    "\n",
    "Example:\n",
    "Input:\n",
    "2\n",
    "6\n",
    "16 17 4 3 5 2\n",
    "5\n",
    "1 2 3 4 0\n",
    "Output:\n",
    "17 5 2\n",
    "4 0"
   ]
  },
  {
   "cell_type": "code",
   "execution_count": 14,
   "metadata": {
    "collapsed": true
   },
   "outputs": [],
   "source": [
    "def find_leader(arr):\n",
    "    length = len(arr)\n",
    "    out = []\n",
    "    for i in range(length):\n",
    "        for j in range(i+1, length):\n",
    "            if arr[i] <= arr[j]:\n",
    "                break\n",
    "        \n",
    "        if j == length - 1:\n",
    "            # Check till last element\n",
    "            if arr[i] > arr[j]:\n",
    "                out.append(arr[i])\n",
    "    \n",
    "    # to include last element in the arr\n",
    "    out.append(arr[length-1])\n",
    "    \n",
    "    print(','.join(map(str, out)))  "
   ]
  },
  {
   "cell_type": "code",
   "execution_count": 15,
   "metadata": {},
   "outputs": [
    {
     "name": "stdout",
     "output_type": "stream",
     "text": [
      "17,5,2\n"
     ]
    }
   ],
   "source": [
    "find_leader([16, 17, 4, 3, 5, 2])"
   ]
  },
  {
   "cell_type": "code",
   "execution_count": 16,
   "metadata": {},
   "outputs": [
    {
     "name": "stdout",
     "output_type": "stream",
     "text": [
      "4,0\n"
     ]
    }
   ],
   "source": [
    "find_leader([1, 2, 3, 4, 0])"
   ]
  },
  {
   "cell_type": "code",
   "execution_count": null,
   "metadata": {
    "collapsed": true
   },
   "outputs": [],
   "source": []
  }
 ],
 "metadata": {
  "kernelspec": {
   "display_name": "Python 3",
   "language": "python",
   "name": "python3"
  },
  "language_info": {
   "codemirror_mode": {
    "name": "ipython",
    "version": 3
   },
   "file_extension": ".py",
   "mimetype": "text/x-python",
   "name": "python",
   "nbconvert_exporter": "python",
   "pygments_lexer": "ipython3",
   "version": "3.6.3"
  }
 },
 "nbformat": 4,
 "nbformat_minor": 2
}
