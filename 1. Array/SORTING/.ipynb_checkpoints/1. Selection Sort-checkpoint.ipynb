{
 "cells": [
  {
   "cell_type": "raw",
   "metadata": {},
   "source": [
    "The selection sort algorithm sorts an array by repeatedly finding the minimum element (considering ascending order) from unsorted part and putting it at the beginning. The algorithm maintains two subarrays in a given array.\n",
    "\n",
    "1) The subarray which is already sorted.\n",
    "2) Remaining subarray which is unsorted.\n",
    "\n",
    "In every iteration of selection sort, the minimum element (considering ascending order) from the unsorted subarray is picked and moved to the sorted subarray.\n",
    "\n",
    "Following example explains the above steps:\n",
    "\n",
    "arr[] = 64 25 12 22 11\n",
    "\n",
    "// Find the minimum element in arr[0...4]\n",
    "// and place it at beginning\n",
    "11 25 12 22 64\n",
    "\n",
    "// Find the minimum element in arr[1...4]\n",
    "// and place it at beginning of arr[1...4]\n",
    "11 12 25 22 64\n",
    "\n",
    "// Find the minimum element in arr[2...4]\n",
    "// and place it at beginning of arr[2...4]\n",
    "11 12 22 25 64\n",
    "\n",
    "// Find the minimum element in arr[3...4]\n",
    "// and place it at beginning of arr[3...4]\n",
    "11 12 22 25 64 "
   ]
  },
  {
   "cell_type": "code",
   "execution_count": 8,
   "metadata": {
    "collapsed": true
   },
   "outputs": [],
   "source": [
    "def selection_sort(arr):\n",
    "    for i in range(len(arr)):\n",
    "        min_ind = i\n",
    "        \n",
    "        for j in range(i+1, len(arr)):\n",
    "            if arr[min_ind] > arr[j]:\n",
    "                min_ind = j\n",
    "        \n",
    "        arr[i], arr[min_ind] = arr[min_ind], arr[i]\n",
    "    \n",
    "    return arr"
   ]
  },
  {
   "cell_type": "code",
   "execution_count": 10,
   "metadata": {},
   "outputs": [
    {
     "data": {
      "text/plain": [
       "[1, 2, 5, 7, 22, 55, 77, 100, 109, 300, 1001, 4444]"
      ]
     },
     "execution_count": 10,
     "metadata": {},
     "output_type": "execute_result"
    }
   ],
   "source": [
    "selection_sort([4444,22,1,55,7,77,100,109,300,2,5,1001])"
   ]
  },
  {
   "cell_type": "code",
   "execution_count": null,
   "metadata": {
    "collapsed": true
   },
   "outputs": [],
   "source": []
  }
 ],
 "metadata": {
  "kernelspec": {
   "display_name": "Python 3",
   "language": "python",
   "name": "python3"
  },
  "language_info": {
   "codemirror_mode": {
    "name": "ipython",
    "version": 3
   },
   "file_extension": ".py",
   "mimetype": "text/x-python",
   "name": "python",
   "nbconvert_exporter": "python",
   "pygments_lexer": "ipython3",
   "version": "3.6.3"
  }
 },
 "nbformat": 4,
 "nbformat_minor": 2
}
