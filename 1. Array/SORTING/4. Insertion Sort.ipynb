{
 "cells": [
  {
   "cell_type": "raw",
   "metadata": {},
   "source": [
    "Insertion sort is a simple sorting algorithm that works the way we sort playing cards in our hands.\n",
    "Algorithm\n",
    "// Sort an arr[] of size n\n",
    "insertionSort(arr, n)\n",
    "Loop from i = 1 to n-1.\n",
    "……a) Pick element arr[i] and insert it into sorted sequence arr[0…i-1]\n",
    "\n",
    "Example: \n",
    "12, 11, 13, 5, 6\n",
    "\n",
    "Let us loop for i = 1 (second element of the array) to 5 (Size of input array)\n",
    "\n",
    "i = 1. Since 11 is smaller than 12, move 12 and insert 11 before 12\n",
    "11, 12, 13, 5, 6\n",
    "\n",
    "i = 2. 13 will remain at its position as all elements in A[0..I-1] are smaller than 13\n",
    "11, 12, 13, 5, 6\n",
    "\n",
    "i = 3. 5 will move to the beginning and all other elements from 11 to 13 will move one position ahead of their current position.\n",
    "5, 11, 12, 13, 6\n",
    "\n",
    "i = 4. 6 will move to position after 5, and elements from 11 to 13 will move one position ahead of their current position.\n",
    "5, 6, 11, 12, 13\n"
   ]
  },
  {
   "cell_type": "code",
   "execution_count": 11,
   "metadata": {
    "collapsed": true
   },
   "outputs": [],
   "source": [
    "def reverse_sort(arr):\n",
    "    for i in range(1, len(arr)):\n",
    "        key = arr[i]\n",
    "        j = i - 1\n",
    "        #print(\"key =\", key)\n",
    "        #print(\"j = \", j)\n",
    "        while j >= 0 and key < arr[j]:\n",
    "            #print('arr[j+1], arr[j]', arr[j+1],arr[j])\n",
    "            arr[j+1] = arr[j]\n",
    "            j -= 1\n",
    "            #print('arr====', arr)\n",
    "        arr[j+1] = key\n",
    "        #print('arr====', arr)\n",
    "    \n",
    "    return arr"
   ]
  },
  {
   "cell_type": "code",
   "execution_count": 12,
   "metadata": {},
   "outputs": [
    {
     "data": {
      "text/plain": [
       "[1, 2, 5, 7, 22, 55, 77, 100, 109, 300, 1001, 4444]"
      ]
     },
     "execution_count": 12,
     "metadata": {},
     "output_type": "execute_result"
    }
   ],
   "source": [
    "reverse_sort([4444,22,1,55,7,77,100,109,300,2,5,1001])"
   ]
  },
  {
   "cell_type": "code",
   "execution_count": null,
   "metadata": {
    "collapsed": true
   },
   "outputs": [],
   "source": []
  }
 ],
 "metadata": {
  "kernelspec": {
   "display_name": "Python 3",
   "language": "python",
   "name": "python3"
  },
  "language_info": {
   "codemirror_mode": {
    "name": "ipython",
    "version": 3
   },
   "file_extension": ".py",
   "mimetype": "text/x-python",
   "name": "python",
   "nbconvert_exporter": "python",
   "pygments_lexer": "ipython3",
   "version": "3.6.3"
  }
 },
 "nbformat": 4,
 "nbformat_minor": 2
}
