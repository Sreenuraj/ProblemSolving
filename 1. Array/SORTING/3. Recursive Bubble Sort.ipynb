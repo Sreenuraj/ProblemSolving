{
 "cells": [
  {
   "cell_type": "raw",
   "metadata": {},
   "source": [
    "Background :\n",
    "\n",
    "Bubble Sort is the simplest sorting algorithm that works by repeatedly swapping the adjacent elements if they are in wrong order.\n",
    "Example:\n",
    "First Pass:\n",
    "( 5 1 4 2 8 ) –> ( 1 5 4 2 8 ), Here, algorithm compares the first two elements, and swaps since 5 > 1.\n",
    "( 1 5 4 2 8 ) –> ( 1 4 5 2 8 ), Swap since 5 > 4\n",
    "( 1 4 5 2 8 ) –> ( 1 4 2 5 8 ), Swap since 5 > 2\n",
    "( 1 4 2 5 8 ) –> ( 1 4 2 5 8 ), Now, since these elements are already in order (8 > 5), algorithm does not swap them.\n",
    "\n",
    "Second Pass:\n",
    "( 1 4 2 5 8 ) –> ( 1 4 2 5 8 )\n",
    "( 1 4 2 5 8 ) –> ( 1 2 4 5 8 ), Swap since 4 > 2\n",
    "( 1 2 4 5 8 ) –> ( 1 2 4 5 8 )\n",
    "( 1 2 4 5 8 ) –> ( 1 2 4 5 8 )\n",
    "Now, the array is already sorted, but our algorithm does not know if it is completed. The algorithm needs one whole pass without any swap to know it is sorted.\n",
    "\n",
    "Third Pass:\n",
    "( 1 2 4 5 8 ) –> ( 1 2 4 5 8 )\n",
    "( 1 2 4 5 8 ) –> ( 1 2 4 5 8 )\n",
    "( 1 2 4 5 8 ) –> ( 1 2 4 5 8 )\n",
    "( 1 2 4 5 8 ) –> ( 1 2 4 5 8 )\n",
    "\n",
    "Following is iterative Bubble sort algorithm :\n",
    "\n",
    "// Iterative Bubble Sort\n",
    "bubbleSort(arr[], n)\n",
    "{\n",
    "  for (i = 0; i < n-1; i++)      \n",
    "\n",
    "     // Last i elements are already in place   \n",
    "     for (j = 0; j < n-i-1; j++) \n",
    "       if (arr[j] > arr[j+1])\n",
    "         swap(arr[j], arr[j+1]);\n",
    "} \n",
    "See Bubble Sort for more details.\n",
    "\n",
    "\n",
    "How to implement it recursively?\n",
    "\n",
    "Recursive Bubble Sort has no performance/implementation advantages, but can be a good question to check one’s understanding of Bubble Sort and recursion.\n",
    "If we take a closer look at Bubble Sort algorithm, we can notice that in first pass, we move largest element to end (Assuming sorting in increasing order). In second pass, we move second largest element to second last position and so on.\n",
    "\n",
    "Recursion Idea.\n",
    "\n",
    "Base Case: If array size is 1, return.\n",
    "Do One Pass of normal Bubble Sort. This pass fixes last element of current subarray.\n",
    "Recur for all elements except last of current subarray.\n",
    "Below is implementation of above idea.\n",
    "\n"
   ]
  },
  {
   "cell_type": "code",
   "execution_count": 4,
   "metadata": {},
   "outputs": [],
   "source": [
    "def recursive_bubble(arr):\n",
    "    n = len(arr)\n",
    "    \n",
    "    for i, num in enumerate(arr):\n",
    "        try:\n",
    "            if arr[i+1] < num:\n",
    "                arr[i] = arr[i+1]\n",
    "                arr[i+1] = num\n",
    "                recursive_bubble(arr)\n",
    "        except IndexError:\n",
    "            pass\n",
    "    return arr"
   ]
  },
  {
   "cell_type": "code",
   "execution_count": 5,
   "metadata": {},
   "outputs": [
    {
     "data": {
      "text/plain": [
       "[1, 3, 5, 6, 8, 11, 22, 33, 44, 50, 55, 99, 192, 1000, 2003]"
      ]
     },
     "execution_count": 5,
     "metadata": {},
     "output_type": "execute_result"
    }
   ],
   "source": [
    "recursive_bubble([1000,33,55,1,5,22,6,8,3,99,11,2003,44,50,192])"
   ]
  },
  {
   "cell_type": "code",
   "execution_count": null,
   "metadata": {
    "collapsed": true
   },
   "outputs": [],
   "source": []
  }
 ],
 "metadata": {
  "kernelspec": {
   "display_name": "Python 3",
   "language": "python",
   "name": "python3"
  },
  "language_info": {
   "codemirror_mode": {
    "name": "ipython",
    "version": 3
   },
   "file_extension": ".py",
   "mimetype": "text/x-python",
   "name": "python",
   "nbconvert_exporter": "python",
   "pygments_lexer": "ipython3",
   "version": "3.6.3"
  }
 },
 "nbformat": 4,
 "nbformat_minor": 2
}
