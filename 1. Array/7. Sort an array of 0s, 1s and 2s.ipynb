{
 "cells": [
  {
   "cell_type": "raw",
   "metadata": {},
   "source": [
    "Write a program to sort an array of 0's,1's and 2's in ascending order.\n",
    "\n",
    "Input:\n",
    "The first line contains an integer 'T' denoting the total number of test cases. In each test cases, First line is number of elements in array 'N' and second its values.\n",
    "\n",
    "Output: \n",
    "Print the sorted array of 0's, 1's and 2's.\n",
    "\n",
    "Constraints: \n",
    "\n",
    "1 <= T <= 100\n",
    "1 <= N <= 100\n",
    "0 <= arr[i] <= 2\n",
    "\n",
    "Example:\n",
    "\n",
    "Input :\n",
    "\n",
    "2\n",
    "5\n",
    "0 2 1 2 0\n",
    "3\n",
    "0 1 0\n",
    " \n",
    "\n",
    "Output:\n",
    "\n",
    "0 0 1 2 2\n",
    "0 0 1"
   ]
  },
  {
   "cell_type": "code",
   "execution_count": 5,
   "metadata": {
    "collapsed": true
   },
   "outputs": [],
   "source": [
    "def sort012(arr):\n",
    "    low = 0\n",
    "    mid = 0\n",
    "    hi = len(arr) - 1\n",
    "    while mid <= hi:\n",
    "        if arr[mid] == 0:\n",
    "            arr[low], arr[mid] = arr[mid], arr[low]\n",
    "            low += 1\n",
    "            mid += 1\n",
    "        elif arr[mid] == 1:\n",
    "            mid += 1\n",
    "        else:\n",
    "            arr[hi], arr[mid] = arr[mid], arr[hi]\n",
    "            hi -= 1\n",
    "    print(' '.join(map(str, arr)))"
   ]
  },
  {
   "cell_type": "code",
   "execution_count": 6,
   "metadata": {},
   "outputs": [
    {
     "name": "stdout",
     "output_type": "stream",
     "text": [
      "0 0 1 2 2\n"
     ]
    }
   ],
   "source": [
    "sort012([0,2,1,2,0])"
   ]
  },
  {
   "cell_type": "code",
   "execution_count": 8,
   "metadata": {},
   "outputs": [
    {
     "name": "stdout",
     "output_type": "stream",
     "text": [
      "0 0 1\n"
     ]
    }
   ],
   "source": [
    "sort012([0,1,0])"
   ]
  },
  {
   "cell_type": "code",
   "execution_count": 9,
   "metadata": {},
   "outputs": [
    {
     "name": "stdout",
     "output_type": "stream",
     "text": [
      "0 0 0 0 1 1 1 1 1 2 2 2 2 2\n"
     ]
    }
   ],
   "source": [
    "sort012([2,1,1,2,0,1,2,0,0,2,1,1,2,0])"
   ]
  },
  {
   "cell_type": "code",
   "execution_count": null,
   "metadata": {
    "collapsed": true
   },
   "outputs": [],
   "source": []
  }
 ],
 "metadata": {
  "kernelspec": {
   "display_name": "Python 3",
   "language": "python",
   "name": "python3"
  },
  "language_info": {
   "codemirror_mode": {
    "name": "ipython",
    "version": 3
   },
   "file_extension": ".py",
   "mimetype": "text/x-python",
   "name": "python",
   "nbconvert_exporter": "python",
   "pygments_lexer": "ipython3",
   "version": "3.6.3"
  }
 },
 "nbformat": 4,
 "nbformat_minor": 2
}
