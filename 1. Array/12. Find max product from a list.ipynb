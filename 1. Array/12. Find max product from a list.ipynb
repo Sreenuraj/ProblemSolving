{
 "cells": [
  {
   "cell_type": "code",
   "execution_count": 22,
   "metadata": {
    "collapsed": true
   },
   "outputs": [],
   "source": [
    "def find_max_product(arr):\n",
    "    neg = sorted([num for num in arr if num < 0])\n",
    "    pos = sorted([num for num in arr if num > 0])\n",
    "    (max_neg, max_pos) = (0, 0) \n",
    "    if len(neg) > 1:\n",
    "        max_neg = neg[0]*neg[1]\n",
    "    if len(pos) > 1:\n",
    "        max_pos = pos[-1]*pos[-2]\n",
    "    if max_neg > max_pos:\n",
    "        print(neg[0],neg[1])\n",
    "        return max_neg\n",
    "    else:\n",
    "        print(pos[-1],pos[-2])\n",
    "        return max_pos\n",
    "    \n",
    "    "
   ]
  },
  {
   "cell_type": "code",
   "execution_count": 29,
   "metadata": {},
   "outputs": [
    {
     "name": "stdout",
     "output_type": "stream",
     "text": [
      "-55 -39\n"
     ]
    },
    {
     "data": {
      "text/plain": [
       "2145"
      ]
     },
     "execution_count": 29,
     "metadata": {},
     "output_type": "execute_result"
    }
   ],
   "source": [
    "find_max_product([2,4,5,1,3,6,11,-55, -39, 10, 55, 10,10,1])"
   ]
  }
 ],
 "metadata": {
  "kernelspec": {
   "display_name": "Python 3",
   "language": "python",
   "name": "python3"
  },
  "language_info": {
   "codemirror_mode": {
    "name": "ipython",
    "version": 3
   },
   "file_extension": ".py",
   "mimetype": "text/x-python",
   "name": "python",
   "nbconvert_exporter": "python",
   "pygments_lexer": "ipython3",
   "version": "3.6.3"
  }
 },
 "nbformat": 4,
 "nbformat_minor": 2
}
