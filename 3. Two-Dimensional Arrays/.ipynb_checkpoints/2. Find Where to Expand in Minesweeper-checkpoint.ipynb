{
 "cells": [
  {
   "cell_type": "markdown",
   "metadata": {},
   "source": [
    "# Implement a function that turns revealed cells into -2 given a location the user wants to click.\n",
    "For simplicity, only reveal cells that have 0 in them.  If the user clicks on any other type of cell (for example, -1 / bomb or 1, 2, or 3), just ignore the click and return the original field.  If a user clicks 0, reveal all other 0's that are connected to it.\n",
    "\n",
    "## Example 1: \n",
    "Given field:\n",
    "[[0, 0, 0, 0, 0],\n",
    "[0, 1, 1, 1, 0],\n",
    "[0, 1, -1, 1, 0]]\n",
    "Click location: (2, 2: row index = 2, column index = 2)\n",
    "Resulting field:\n",
    "[[0, 0, 0, 0, 0],\n",
    "[0, 1, 1, 1, 0],\n",
    "[0, 1, -1, 1, 0]] (same as the given field)\n",
    "\n",
    "## Example 2: \n",
    "Given field:\n",
    "[[-1, 1, 0, 0],\n",
    "[1, 1, 0, 0],\n",
    "[0, 0, 1, 1],\n",
    "[0, 0, 1, -1]]\n",
    "Click location: (1, 3: row index = 1, column index = 3)\n",
    "Resulting field:\n",
    "[[-1, 1, -2, -2],\n",
    "[1, 1, -2, -2],\n",
    "[-2, -2, 1, 1],\n",
    "[-2, -2, 1, -1]]\n",
    "\n",
    "## Your function should take:\n",
    "field: The given field as a 2D array\n",
    "num_rows / numRows: The number of rows in the given field\n",
    "num_cols / numCols: The number of columns in the given field\n",
    "given_i / givenI: The row index of the cell the user wants to click\n",
    "given_j / givenJ: The column index of the cell the user wants to click\n"
   ]
  },
  {
   "cell_type": "code",
   "execution_count": 1,
   "metadata": {
    "collapsed": true
   },
   "outputs": [],
   "source": [
    "# Implement your function below.\n",
    "def click(field, num_rows, num_cols, given_i, given_j):\n",
    "    to_check = [[given_i,given_j]]\n",
    "    return field\n",
    "\n",
    "\n",
    "# NOTE: Feel free to use the following function for testing.\n",
    "# It converts a 2-dimensional array (a list of lists) into\n",
    "# an easy-to-read string format.\n",
    "def to_string(given_array):\n",
    "    list_rows = []\n",
    "    for row in given_array:\n",
    "        list_rows.append(str(row))\n",
    "    return '[' + ',\\n '.join(list_rows) + ']'"
   ]
  },
  {
   "cell_type": "code",
   "execution_count": 2,
   "metadata": {
    "collapsed": true
   },
   "outputs": [],
   "source": [
    "# NOTE: The following input values will be used for testing your solution.\n",
    "field1 = [[0, 0, 0, 0, 0],\n",
    "          [0, 1, 1, 1, 0],\n",
    "          [0, 1, -1, 1, 0]]\n",
    "\n",
    "# click(field1, 3, 5, 2, 2) should return:\n",
    "# [[0, 0, 0, 0, 0],\n",
    "#  [0, 1, 1, 1, 0],\n",
    "#  [0, 1, -1, 1, 0]]\n"
   ]
  },
  {
   "cell_type": "code",
   "execution_count": 3,
   "metadata": {
    "collapsed": true
   },
   "outputs": [],
   "source": [
    "# click(field1, 3, 5, 1, 4) should return:\n",
    "# [[-2, -2, -2, -2, -2],\n",
    "#  [-2, 1, 1, 1, -2],\n",
    "#  [-2, 1, -1, 1, -2]]"
   ]
  },
  {
   "cell_type": "code",
   "execution_count": 4,
   "metadata": {
    "collapsed": true
   },
   "outputs": [],
   "source": [
    "field2 = [[-1, 1, 0, 0],\n",
    "          [1, 1, 0, 0],\n",
    "          [0, 0, 1, 1],\n",
    "          [0, 0, 1, -1]]\n",
    "\n",
    "# click(field2, 4, 4, 0, 1) should return:\n",
    "# [[-1, 1, 0, 0],\n",
    "#  [1, 1, 0, 0],\n",
    "#  [0, 0, 1, 1],\n",
    "#  [0, 0, 1, -1]]"
   ]
  },
  {
   "cell_type": "code",
   "execution_count": null,
   "metadata": {
    "collapsed": true
   },
   "outputs": [],
   "source": [
    "# click(field2, 4, 4, 1, 3) should return:\n",
    "# [[-1, 1, -2, -2],\n",
    "#  [1, 1, -2, -2],\n",
    "#  [-2, -2, 1, 1],\n",
    "#  [-2, -2, 1, -1]]"
   ]
  }
 ],
 "metadata": {
  "kernelspec": {
   "display_name": "Python 3",
   "language": "python",
   "name": "python3"
  },
  "language_info": {
   "codemirror_mode": {
    "name": "ipython",
    "version": 3
   },
   "file_extension": ".py",
   "mimetype": "text/x-python",
   "name": "python",
   "nbconvert_exporter": "python",
   "pygments_lexer": "ipython3",
   "version": "3.6.3"
  }
 },
 "nbformat": 4,
 "nbformat_minor": 2
}
