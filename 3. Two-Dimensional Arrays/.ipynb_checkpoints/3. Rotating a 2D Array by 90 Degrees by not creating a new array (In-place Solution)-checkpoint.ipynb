{
 "cells": [
  {
   "cell_type": "markdown",
   "metadata": {},
   "source": [
    "# A 2-dimensional array is an array of arrays.\n",
    "Implement a function that takes a square 2D array (# columns = # rows) and rotates it by 90 degrees.\n",
    "\n",
    "## Example:\n",
    "[[1, 2, 3],\n",
    "[4, 5, 6],\n",
    "[7, 8, 9]]\n",
    "->\n",
    "[[7, 4, 1],\n",
    "[8, 5, 2],\n",
    "[9, 6, 3]]\n",
    "\n",
    "When you are done, try implementing this function so that you can solve this problem in place. \n",
    "Solving it in place means that your function won't create a new array to solve this problem.\n",
    "Instead, modify the content of the given array with O(1) extra space."
   ]
  },
  {
   "cell_type": "code",
   "execution_count": 25,
   "metadata": {
    "collapsed": true
   },
   "outputs": [],
   "source": [
    "# Implement your function below.\n",
    "import math\n",
    "\n",
    "def rotate_sub(i, j, n):\n",
    "    return (j, n -1 -i)\n",
    "\n",
    "def rotate(given_array, n):\n",
    "    for i in range(math.ceil(n/2)):\n",
    "        for j in range(math.floor(n/2)):\n",
    "            tmp = [-1] * 4\n",
    "            (current_i, current_j)=(i, j)\n",
    "            for k in range(4):\n",
    "                tmp[k] = given_array[current_i][current_j]\n",
    "                (current_i,current_j) = rotate_sub(current_i, current_j, n)\n",
    "            for k in range(4):\n",
    "                given_array[current_i][current_j] = tmp[(k - 1) % 4]\n",
    "                (current_i, current_j)= rotate_sub(current_i, current_j, n)\n",
    "                \n",
    "    return given_array\n",
    "\n",
    "# NOTE: Feel free to use the following function for testing.\n",
    "# It converts a 2-dimensional array (a list of lists) into\n",
    "# an easy-to-read string format.\n",
    "def to_string(given_array):\n",
    "    list_rows = []\n",
    "    for row in given_array:\n",
    "        list_rows.append(str(row))\n",
    "    return '[' + ',\\n '.join(list_rows) + ']'"
   ]
  },
  {
   "cell_type": "code",
   "execution_count": 26,
   "metadata": {},
   "outputs": [
    {
     "data": {
      "text/plain": [
       "[[1, 2, 3], [4, 5, 6], [7, 8, 9]]"
      ]
     },
     "execution_count": 26,
     "metadata": {},
     "output_type": "execute_result"
    }
   ],
   "source": [
    "# NOTE: The following input values will be used for testing your solution.\n",
    "a1 = [[1, 2, 3],\n",
    "      [4, 5, 6],\n",
    "      [7, 8, 9]]\n",
    "rotate(a1, 3) #should return:\n",
    "# [[7, 4, 1],\n",
    "#  [8, 5, 2],\n",
    "#  [9, 6, 3]]\n"
   ]
  },
  {
   "cell_type": "code",
   "execution_count": 27,
   "metadata": {},
   "outputs": [
    {
     "data": {
      "text/plain": [
       "[[1, 2, 3, 4], [5, 6, 7, 8], [9, 10, 11, 12], [13, 14, 15, 16]]"
      ]
     },
     "execution_count": 27,
     "metadata": {},
     "output_type": "execute_result"
    }
   ],
   "source": [
    "a2 = [[1, 2, 3, 4],\n",
    "      [5, 6, 7, 8],\n",
    "      [9, 10, 11, 12],\n",
    "      [13, 14, 15, 16]]\n",
    "rotate(a2, 4) #should return:\n",
    "# [[13, 9, 5, 1],\n",
    "#  [14, 10, 6, 2],\n",
    "#  [15, 11, 7, 3],\n",
    "#  [16, 12, 8, 4]]\n"
   ]
  },
  {
   "cell_type": "code",
   "execution_count": null,
   "metadata": {
    "collapsed": true
   },
   "outputs": [],
   "source": []
  }
 ],
 "metadata": {
  "kernelspec": {
   "display_name": "Python 3",
   "language": "python",
   "name": "python3"
  },
  "language_info": {
   "codemirror_mode": {
    "name": "ipython",
    "version": 3
   },
   "file_extension": ".py",
   "mimetype": "text/x-python",
   "name": "python",
   "nbconvert_exporter": "python",
   "pygments_lexer": "ipython3",
   "version": "3.6.3"
  }
 },
 "nbformat": 4,
 "nbformat_minor": 2
}
