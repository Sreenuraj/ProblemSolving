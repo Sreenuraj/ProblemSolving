{
 "cells": [
  {
   "cell_type": "markdown",
   "metadata": {},
   "source": [
    "## Implement a function that assigns correct numbers in a field of Minesweeper, which is represented as a 2 dimensional array.\n",
    "\n",
    "Example: The size of the field is 3x4, and there are bombs at the positions [0, 0] (row index = 0, column index = 0) and [0, 1] (row index = 0, column index = 1).\n",
    "\n",
    "Then, the resulting field should be:\n",
    "\n",
    "[[-1, -1, 1, 0],\n",
    " [2, 2, 1, 0],\n",
    " [0, 0, 0, 0]]\n",
    " \n",
    "\n",
    "Your function should return the resulting 2D array after taking the following three arguments:\n",
    "\n",
    "bombs: A list of bomb locations.  Given as an array of arrays.  Example: [[0, 0], [0, 1]] ([row index = 0, column index = 0], [row index = 0, column index = 1].  Assume that there are no duplicates.\n",
    "num_rows: The number of rows in the resulting field.\n",
    "num_columns: The number of columns in the resulting field.\n",
    "In the resulting field:\n",
    "\n",
    "-1 represents that there is a bomb in that location.\n",
    "1, 2, 3... etc. represents that there are 1, 2, 3... etc. bombs in the surrounding cells (including diagonally adjacent cells).\n",
    "0 represents that there are no bombs in the surrounding cells."
   ]
  },
  {
   "cell_type": "code",
   "execution_count": 15,
   "metadata": {
    "collapsed": true
   },
   "outputs": [],
   "source": [
    "# Implement your function below.\n",
    "def mine_sweeper(bombs, num_rows, num_cols):\n",
    "    # NOTE: field = [[0] * num_cols] * num_rows would not work\n",
    "    # because you need to create a new list for every row,\n",
    "    # instead of copying the same list.\n",
    "    #field = [[0] * num_cols] * num_rows\n",
    "    field = [[0 for i in range(num_cols)] for j in range(num_rows)]\n",
    "    \n",
    "    for bomb in bombs:\n",
    "        (row,col)=bomb\n",
    "        field[row][col]= -1\n",
    "        for i in range(row - 1, row + 2):\n",
    "            for j in range(col - 1, col + 2):\n",
    "                if (0 <= i < num_rows and 0 <= j < num_cols and field[i][j] != -1):\n",
    "                    field[i][j] += 1\n",
    "    \n",
    "    return field\n",
    "\n",
    "\n",
    "# NOTE: Feel free to use the following function for testing.\n",
    "# It converts a 2-dimensional array (a list of lists) into\n",
    "# an easy-to-read string format.\n",
    "def to_string(given_array):\n",
    "    list_rows = []\n",
    "    for row in given_array:\n",
    "        list_rows.append(str(row))\n",
    "    return '[' + ',\\n '.join(list_rows) + ']'"
   ]
  },
  {
   "cell_type": "code",
   "execution_count": 16,
   "metadata": {},
   "outputs": [
    {
     "data": {
      "text/plain": [
       "[[0, 1, -1], [1, 2, 1], [-1, 1, 0]]"
      ]
     },
     "execution_count": 16,
     "metadata": {},
     "output_type": "execute_result"
    }
   ],
   "source": [
    "# NOTE: The following input values will be used for testing your solution.\n",
    "mine_sweeper([[0, 2], [2, 0]], 3, 3) #should return:\n",
    "# [[0, 1, -1],\n",
    "#  [1, 2, 1],\n",
    "#  [-1, 1, 0]]"
   ]
  },
  {
   "cell_type": "code",
   "execution_count": 14,
   "metadata": {},
   "outputs": [
    {
     "data": {
      "text/plain": [
       "[[-1, -1, 2, 2], [2, 3, -1, 2], [2, 3, 2, 2]]"
      ]
     },
     "execution_count": 14,
     "metadata": {},
     "output_type": "execute_result"
    }
   ],
   "source": [
    "mine_sweeper([[0, 0], [0, 1], [1, 2]], 3, 4) #should return:\n",
    "# [[-1, -1, 2, 1],\n",
    "#  [2, 3, -1, 1],\n",
    "#  [0, 1, 1, 1]]"
   ]
  },
  {
   "cell_type": "code",
   "execution_count": null,
   "metadata": {
    "collapsed": true
   },
   "outputs": [],
   "source": [
    "# mine_sweeper([[1, 1], [1, 2], [2, 2], [4, 3]], 5, 5) should return:\n",
    "# [[1, 2, 2, 1, 0],\n",
    "#  [1, -1, -1, 2, 0],\n",
    "#  [1, 3, -1, 2, 0],\n",
    "#  [0, 1, 2, 2, 1],\n",
    "#  [0, 0, 1, -1, 1]]"
   ]
  }
 ],
 "metadata": {
  "kernelspec": {
   "display_name": "Python 3",
   "language": "python",
   "name": "python3"
  },
  "language_info": {
   "codemirror_mode": {
    "name": "ipython",
    "version": 3
   },
   "file_extension": ".py",
   "mimetype": "text/x-python",
   "name": "python",
   "nbconvert_exporter": "python",
   "pygments_lexer": "ipython3",
   "version": "3.6.3"
  }
 },
 "nbformat": 4,
 "nbformat_minor": 2
}
