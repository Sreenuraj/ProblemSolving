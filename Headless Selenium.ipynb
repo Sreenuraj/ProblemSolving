{
 "cells": [
  {
   "cell_type": "code",
   "execution_count": 4,
   "metadata": {},
   "outputs": [
    {
     "name": "stdout",
     "output_type": "stream",
     "text": [
      "https://duckduckgo.com/?q=realpython&t=h_&ia=web\n"
     ]
    }
   ],
   "source": [
    "import selenium as se\n",
    "\n",
    "options = se.webdriver.ChromeOptions()\n",
    "options.add_argument('headless')\n",
    "driver = se.webdriver.Chrome(chrome_options=options)\n",
    "driver.get(\"https://duckduckgo.com/\")\n",
    "driver.find_element_by_id('search_form_input_homepage').send_keys(\"realpython\")\n",
    "driver.find_element_by_id(\"search_button_homepage\").click()\n",
    "print(driver.current_url)\n",
    "driver.quit()"
   ]
  },
  {
   "cell_type": "code",
   "execution_count": null,
   "metadata": {
    "collapsed": true
   },
   "outputs": [],
   "source": []
  }
 ],
 "metadata": {
  "kernelspec": {
   "display_name": "Python 3",
   "language": "python",
   "name": "python3"
  },
  "language_info": {
   "codemirror_mode": {
    "name": "ipython",
    "version": 3
   },
   "file_extension": ".py",
   "mimetype": "text/x-python",
   "name": "python",
   "nbconvert_exporter": "python",
   "pygments_lexer": "ipython3",
   "version": "3.6.2"
  }
 },
 "nbformat": 4,
 "nbformat_minor": 2
}
