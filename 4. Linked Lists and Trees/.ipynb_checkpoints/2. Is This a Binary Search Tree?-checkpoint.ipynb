{
 "cells": [
  {
   "cell_type": "markdown",
   "metadata": {},
   "source": [
    "# Write a function that takes a binary tree and returns true if it is a binary search tree, and false if not."
   ]
  },
  {
   "cell_type": "raw",
   "metadata": {},
   "source": [
    "In our test code, we're going to use the following examples:\n",
    "\n",
    "head1 = 0\n",
    "       / \\\n",
    "      1   2\n",
    "     /\\   /\\\n",
    "    3  4 5  6\n",
    "head1 is NOT a binary search tree.\n",
    "\n",
    "head2 = 3\n",
    "      /   \\\n",
    "     1     4\n",
    "    /\\    / \\\n",
    "   0  2  5   6\n",
    "head2 is NOT a binary search tree.\n",
    "\n",
    "head3 = 3\n",
    "      /   \\\n",
    "     1     5\n",
    "    /\\    / \\\n",
    "   0  2  4   6\n",
    "head3 is a binary search tree.\n",
    "\n",
    "head4 = 3\n",
    "      /   \\\n",
    "     1     5\n",
    "    /\\\n",
    "   0  4\n",
    "head4 is NOT a binary search tree."
   ]
  },
  {
   "cell_type": "code",
   "execution_count": 1,
   "metadata": {
    "collapsed": true
   },
   "outputs": [],
   "source": [
    "# Use this class to create binary trees.\n",
    "class Node:\n",
    "    def __init__(self, value, left=None, right=None):\n",
    "        self.value = value\n",
    "        self.left = left\n",
    "        self.right = right\n",
    "\n",
    "    def __str__(self):\n",
    "        return str(self.value)\n",
    "\n",
    "\n",
    "# Implement your function below.\n",
    "def is_bst(node, lower_lim=None, upper_lim=None):\n",
    "    return False\n",
    "\n",
    "\n",
    "# A function for creating a tree.\n",
    "# Input:\n",
    "# - mapping: a node-to-node mapping that shows how the tree should be constructed\n",
    "# - head_value: the value that will be used for the head ndoe\n",
    "# Output:\n",
    "# - The head node of the resulting tree\n",
    "def create_tree(mapping, head_value):\n",
    "    head = Node(head_value)\n",
    "    nodes = {head_value: head}\n",
    "    for key, value in mapping.items():\n",
    "        nodes[value[0]] = Node(value[0])\n",
    "        nodes[value[1]] = Node(value[1])\n",
    "    for key, value in mapping.items():\n",
    "        nodes[key].left = nodes[value[0]]\n",
    "        nodes[key].right = nodes[value[1]]\n",
    "    return head"
   ]
  },
  {
   "cell_type": "code",
   "execution_count": 2,
   "metadata": {
    "collapsed": true
   },
   "outputs": [],
   "source": [
    "# NOTE: The following values will be used for testing your solution.\n",
    "# The mapping we're going to use for constructing a tree.\n",
    "# {0: [1, 2]} means that 0's left child is 1, and its right\n",
    "# child is 2.\n",
    "mapping1 = {0: [1, 2], 1: [3, 4], 2: [5, 6]}\n",
    "mapping2 = {3: [1, 4], 1: [0, 2], 4: [5, 6]}\n",
    "mapping3 = {3: [1, 5], 1: [0, 2], 5: [4, 6]}\n",
    "mapping4 = {3: [1, 5], 1: [0, 4]}\n",
    "head1 = create_tree(mapping1, 0)\n",
    "# This tree is:\n",
    "#  head1 = 0\n",
    "#        /   \\\n",
    "#       1     2\n",
    "#      /\\    / \\\n",
    "#     3  4  5   6\n",
    "head2 = create_tree(mapping2, 3)\n",
    "# This tree is:\n",
    "#  head2 = 3\n",
    "#        /   \\\n",
    "#       1     4\n",
    "#      /\\    / \\\n",
    "#     0  2  5   6\n",
    "head3 = create_tree(mapping3, 3)\n",
    "# This tree is:\n",
    "#  head3 = 3\n",
    "#        /   \\\n",
    "#       1     5\n",
    "#      /\\    / \\\n",
    "#     0  2  4   6\n",
    "head4 = create_tree(mapping4, 3)\n",
    "# This tree is:\n",
    "#  head4 = 3\n",
    "#        /   \\\n",
    "#       1     5\n",
    "#      /\\\n",
    "#     0  4\n"
   ]
  },
  {
   "cell_type": "code",
   "execution_count": 3,
   "metadata": {
    "collapsed": true
   },
   "outputs": [],
   "source": [
    "is_bst(head1) #should return False"
   ]
  },
  {
   "cell_type": "code",
   "execution_count": 4,
   "metadata": {
    "collapsed": true
   },
   "outputs": [],
   "source": [
    "is_bst(head2) #should return False"
   ]
  },
  {
   "cell_type": "code",
   "execution_count": 5,
   "metadata": {
    "collapsed": true
   },
   "outputs": [],
   "source": [
    "is_bst(head3) #should return True"
   ]
  },
  {
   "cell_type": "code",
   "execution_count": null,
   "metadata": {
    "collapsed": true
   },
   "outputs": [],
   "source": [
    "is_bst(head4) #should return False"
   ]
  }
 ],
 "metadata": {
  "kernelspec": {
   "display_name": "Python 3",
   "language": "python",
   "name": "python3"
  },
  "language_info": {
   "codemirror_mode": {
    "name": "ipython",
    "version": 3
   },
   "file_extension": ".py",
   "mimetype": "text/x-python",
   "name": "python",
   "nbconvert_exporter": "python",
   "pygments_lexer": "ipython3",
   "version": "3.6.3"
  }
 },
 "nbformat": 4,
 "nbformat_minor": 2
}
