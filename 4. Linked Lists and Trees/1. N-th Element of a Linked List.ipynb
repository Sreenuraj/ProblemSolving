{
 "cells": [
  {
   "cell_type": "markdown",
   "metadata": {},
   "source": [
    "# Implement a function that finds and returns the nth node in a linked list, counting from the end.\n",
    "Your function should take a linked list (its head element) and n, a positive integer as its arguments.\n",
    "\n",
    "## Examples:\n",
    "\n",
    "head = 7 -> 6 -> 5 -> 4 -> 3 -> 2 -> 1 -> (null / None)\n",
    "The third element of head counting from the end is 3.\n",
    "\n",
    "head2 = 1 -> 2 -> 3 -> 4 -> (null / None)\n",
    "The fourth element of head2 counting from the end is 1.\n",
    "\n",
    "If the given n is larger than the number of nodes in the list, return null / None."
   ]
  },
  {
   "cell_type": "code",
   "execution_count": 11,
   "metadata": {
    "collapsed": true
   },
   "outputs": [],
   "source": [
    "# Use this class to create linked lists.\n",
    "class Node:\n",
    "    def __init__(self, value, child=None):\n",
    "        self.value = value\n",
    "        self.child = child\n",
    "\n",
    "    # The string representation of this node.\n",
    "    # Will be used for testing.\n",
    "    def __str__(self):\n",
    "        return str(self.value)\n",
    "\n",
    "\n",
    "# Implement your function below.\n",
    "def nth_from_last(head, n):\n",
    "    left = head\n",
    "    right = head\n",
    "    for i in range(n):\n",
    "        if right == None:\n",
    "            return None\n",
    "        right = right.child\n",
    "    while right:\n",
    "        right = right.child\n",
    "        left = left.child\n",
    "    return left\n",
    "\n",
    "\n",
    "# NOTE: Feel free to use the following function for testing.\n",
    "# It converts the given linked list into an easy-to-read string format.\n",
    "# Example: 7 -> 6 -> 5 -> 4 -> 3 -> 2 -> 1 -> (None)\n",
    "def linked_list_to_string(head):\n",
    "    current = head\n",
    "    str_list = []\n",
    "    while current:\n",
    "        str_list.append(str(current.value))\n",
    "        current = current.child\n",
    "    str_list.append('(None)')\n",
    "    return ' -> '.join(str_list)"
   ]
  },
  {
   "cell_type": "code",
   "execution_count": 27,
   "metadata": {},
   "outputs": [
    {
     "name": "stdout",
     "output_type": "stream",
     "text": [
      "=======\n",
      "1\n",
      "1\n",
      "2\n",
      "======\n",
      "2\n",
      "3\n",
      "======\n",
      "3\n",
      "4\n",
      "======\n",
      "4\n",
      "5\n",
      "======\n",
      "5\n",
      "6\n",
      "======\n",
      "6\n",
      "7\n",
      "======\n"
     ]
    }
   ],
   "source": [
    "# NOTE: The following input values will be used for testing your solution.\n",
    "current = Node(1)\n",
    "for i in range(2, 8):\n",
    "    current = Node(i, current)\n",
    "head = current\n",
    "# head = 7 -> 6 -> 5 -> 4 -> 3 -> 2 -> 1 -> (None)\n",
    "\n",
    "current2 = Node(4)\n",
    "for i in range(3, 0, -1):\n",
    "    current2 = Node(i, current2)\n",
    "head2 = current2\n",
    "# head2 = 1 -> 2 -> 3 -> 4 -> (None)"
   ]
  },
  {
   "cell_type": "code",
   "execution_count": 19,
   "metadata": {},
   "outputs": [
    {
     "name": "stdout",
     "output_type": "stream",
     "text": [
      "1\n"
     ]
    }
   ],
   "source": [
    "print(nth_from_last(head, 1)) #should return 1."
   ]
  },
  {
   "cell_type": "code",
   "execution_count": 20,
   "metadata": {},
   "outputs": [
    {
     "name": "stdout",
     "output_type": "stream",
     "text": [
      "5\n"
     ]
    }
   ],
   "source": [
    "print(nth_from_last(head, 5)) #should return 5."
   ]
  },
  {
   "cell_type": "code",
   "execution_count": 21,
   "metadata": {},
   "outputs": [
    {
     "name": "stdout",
     "output_type": "stream",
     "text": [
      "3\n"
     ]
    }
   ],
   "source": [
    "print(nth_from_last(head2, 2)) # should return 3."
   ]
  },
  {
   "cell_type": "code",
   "execution_count": 22,
   "metadata": {},
   "outputs": [
    {
     "name": "stdout",
     "output_type": "stream",
     "text": [
      "1\n"
     ]
    }
   ],
   "source": [
    "print(nth_from_last(head2, 4)) # should return 1."
   ]
  },
  {
   "cell_type": "code",
   "execution_count": 23,
   "metadata": {},
   "outputs": [
    {
     "name": "stdout",
     "output_type": "stream",
     "text": [
      "None\n"
     ]
    }
   ],
   "source": [
    "print(nth_from_last(head2, 5)) # should return None."
   ]
  },
  {
   "cell_type": "code",
   "execution_count": 24,
   "metadata": {},
   "outputs": [
    {
     "name": "stdout",
     "output_type": "stream",
     "text": [
      "None\n"
     ]
    }
   ],
   "source": [
    "print(nth_from_last(None, 1)) # should return None."
   ]
  },
  {
   "cell_type": "code",
   "execution_count": null,
   "metadata": {
    "collapsed": true
   },
   "outputs": [],
   "source": []
  }
 ],
 "metadata": {
  "kernelspec": {
   "display_name": "Python 3",
   "language": "python",
   "name": "python3"
  },
  "language_info": {
   "codemirror_mode": {
    "name": "ipython",
    "version": 3
   },
   "file_extension": ".py",
   "mimetype": "text/x-python",
   "name": "python",
   "nbconvert_exporter": "python",
   "pygments_lexer": "ipython3",
   "version": "3.6.3"
  }
 },
 "nbformat": 4,
 "nbformat_minor": 2
}
