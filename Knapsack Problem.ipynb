{
 "cells": [
  {
   "cell_type": "markdown",
   "metadata": {},
   "source": [
    "Given weights and values of n items, put these items in a knapsack of capacity W to get the maximum total value in the knapsack. In other words, given two integer arrays val[0..n-1] and wt[0..n-1] which represent values and weights associated with n items respectively. Also given an integer W which represents knapsack capacity, find out the maximum value subset of val[] such that sum of the weights of this subset is smaller than or equal to W. You cannot break an item, either pick the complete item, or don’t pick it (0-1 property)."
   ]
  },
  {
   "cell_type": "code",
   "execution_count": 17,
   "metadata": {
    "collapsed": true
   },
   "outputs": [],
   "source": [
    "#A naive recursive implementation of 0-1 Knapsack Problem\n",
    " \n",
    "# Returns the maximum value that can be put in a knapsack of\n",
    "# capacity W\n",
    "def knapSack(W , wt , val , n):\n",
    " \n",
    "    # Base Case\n",
    "    if n == 0 or W == 0 :\n",
    "        return 0\n",
    " \n",
    "    # If weight of the nth item is more than Knapsack of capacity\n",
    "    # W, then this item cannot be included in the optimal solution\n",
    "    if (wt[n-1] > W):\n",
    "        return knapSack(W , wt , val , n-1)\n",
    " \n",
    "    # return the maximum of two cases:\n",
    "    # (1) nth item included\n",
    "    # (2) not included\n",
    "    else:\n",
    "        return max(val[n-1] + knapSack(W-wt[n-1] , wt , val , n-1),\n",
    "                   knapSack(W , wt , val , n-1))\n",
    " \n",
    "# end of function knapSack"
   ]
  },
  {
   "cell_type": "code",
   "execution_count": 18,
   "metadata": {},
   "outputs": [
    {
     "name": "stdout",
     "output_type": "stream",
     "text": [
      "150\n"
     ]
    }
   ],
   "source": [
    "# To test above function\n",
    "val = [50,20,60, 100, 120]\n",
    "wt = [10, 20, 30,40,50]\n",
    "W = 50\n",
    "n = len(val)\n",
    "print (knapSack(W , wt , val , n))"
   ]
  },
  {
   "cell_type": "code",
   "execution_count": null,
   "metadata": {
    "collapsed": true
   },
   "outputs": [],
   "source": []
  }
 ],
 "metadata": {
  "kernelspec": {
   "display_name": "Python 3",
   "language": "python",
   "name": "python3"
  },
  "language_info": {
   "codemirror_mode": {
    "name": "ipython",
    "version": 3
   },
   "file_extension": ".py",
   "mimetype": "text/x-python",
   "name": "python",
   "nbconvert_exporter": "python",
   "pygments_lexer": "ipython3",
   "version": "3.6.2"
  }
 },
 "nbformat": 4,
 "nbformat_minor": 2
}
