{
 "cells": [
  {
   "cell_type": "markdown",
   "metadata": {},
   "source": [
    "# And OR Not => & | ^"
   ]
  },
  {
   "cell_type": "code",
   "execution_count": 76,
   "metadata": {
    "collapsed": true
   },
   "outputs": [],
   "source": [
    "# a  b  a&b  a|b  a^b\n",
    "# 0  0   0    0   0\n",
    "# 0  1   0    1   1\n",
    "# 1  0   0    1   1\n",
    "# 1  1   1    1   0"
   ]
  },
  {
   "cell_type": "code",
   "execution_count": 20,
   "metadata": {
    "collapsed": true
   },
   "outputs": [],
   "source": [
    "def print_dec_and_bits(num):\n",
    "    print(\"Decimal: {:d} | Bits: {:3b}\".format(num, num))"
   ]
  },
  {
   "cell_type": "code",
   "execution_count": 78,
   "metadata": {
    "collapsed": true
   },
   "outputs": [],
   "source": [
    "# lets check\n",
    "a = 15 #bits 1111 \n",
    "b = 8  #bits 1000\n",
    "c = a & b # it should give 1000 that is 8 "
   ]
  },
  {
   "cell_type": "code",
   "execution_count": 79,
   "metadata": {},
   "outputs": [
    {
     "name": "stdout",
     "output_type": "stream",
     "text": [
      "Decimal: 8 | Bits: 1000\n"
     ]
    }
   ],
   "source": [
    "print_dec_and_bits(c)"
   ]
  },
  {
   "cell_type": "code",
   "execution_count": 80,
   "metadata": {},
   "outputs": [
    {
     "name": "stdout",
     "output_type": "stream",
     "text": [
      "Decimal: 15 | Bits: 1111\n"
     ]
    }
   ],
   "source": [
    "c = a | b # it should give 1111 that is 15\n",
    "print_dec_and_bits(c)"
   ]
  },
  {
   "cell_type": "code",
   "execution_count": 84,
   "metadata": {},
   "outputs": [
    {
     "name": "stdout",
     "output_type": "stream",
     "text": [
      "Decimal: 7 | Bits: 111\n"
     ]
    }
   ],
   "source": [
    "c = a ^ b # it should give 0111 that is 7\n",
    "print_dec_and_bits(c)"
   ]
  },
  {
   "cell_type": "markdown",
   "metadata": {},
   "source": [
    "## Another example"
   ]
  },
  {
   "cell_type": "code",
   "execution_count": 21,
   "metadata": {
    "collapsed": true
   },
   "outputs": [],
   "source": [
    "a = 5 #bits 101 -> 1 four, 0 two, 1 one\n",
    "b = 4 #bits 100 -> 1 four, 0 two, 0 one"
   ]
  },
  {
   "cell_type": "code",
   "execution_count": 22,
   "metadata": {},
   "outputs": [
    {
     "name": "stdout",
     "output_type": "stream",
     "text": [
      "Decimal: 5 | Bits: 101\n",
      "Decimal: 4 | Bits: 100\n"
     ]
    }
   ],
   "source": [
    "print_dec_and_bits(a)\n",
    "print_dec_and_bits(b)"
   ]
  },
  {
   "cell_type": "code",
   "execution_count": 23,
   "metadata": {
    "collapsed": true
   },
   "outputs": [],
   "source": [
    "c = a & b # bits 100 => because 1 and 1 is 1, 1 and 0 is 0, 0 and 0 is 0"
   ]
  },
  {
   "cell_type": "code",
   "execution_count": 24,
   "metadata": {},
   "outputs": [
    {
     "name": "stdout",
     "output_type": "stream",
     "text": [
      "Decimal: 4 | Bits: 100\n"
     ]
    }
   ],
   "source": [
    "print_dec_and_bits(c)"
   ]
  },
  {
   "cell_type": "code",
   "execution_count": 25,
   "metadata": {
    "collapsed": true
   },
   "outputs": [],
   "source": [
    "d = a | b #bits 101 => because 1 or 1 is 1, 1 or 0 is 1, 0 or 0 is 0"
   ]
  },
  {
   "cell_type": "code",
   "execution_count": 26,
   "metadata": {},
   "outputs": [
    {
     "name": "stdout",
     "output_type": "stream",
     "text": [
      "Decimal: 5 | Bits: 101\n"
     ]
    }
   ],
   "source": [
    "print_dec_and_bits(d)"
   ]
  },
  {
   "cell_type": "code",
   "execution_count": 27,
   "metadata": {},
   "outputs": [
    {
     "name": "stdout",
     "output_type": "stream",
     "text": [
      "Decimal: 1 | Bits:   1\n"
     ]
    }
   ],
   "source": [
    "d = a ^ b # bits 001 => because 1^1 is 0, 0^0 is 0, 1^0 is 1 in decimal its 1\n",
    "print_dec_and_bits(d)"
   ]
  },
  {
   "cell_type": "markdown",
   "metadata": {},
   "source": [
    "## A real world example:"
   ]
  },
  {
   "cell_type": "code",
   "execution_count": 48,
   "metadata": {
    "collapsed": true
   },
   "outputs": [],
   "source": [
    "# User Rights:\n",
    "view = 1 #bits 001\n",
    "edit = 2 #bits 010\n",
    "create = 4 #bits 100"
   ]
  },
  {
   "cell_type": "markdown",
   "metadata": {},
   "source": [
    "## define user class"
   ]
  },
  {
   "cell_type": "code",
   "execution_count": 49,
   "metadata": {
    "collapsed": true
   },
   "outputs": [],
   "source": [
    "class User:\n",
    "    def __init__(self, rights):\n",
    "        self.rights = rights\n",
    "    \n",
    "    def can_view(self):\n",
    "        return view & self.rights\n",
    "    \n",
    "    def can_edit(self):\n",
    "        return edit & self.rights\n",
    "    \n",
    "    def can_create(self):\n",
    "        return create & self.rights"
   ]
  },
  {
   "cell_type": "markdown",
   "metadata": {},
   "source": [
    "## Defining users"
   ]
  },
  {
   "cell_type": "code",
   "execution_count": 50,
   "metadata": {
    "collapsed": true
   },
   "outputs": [],
   "source": [
    "viewer = User(view) # he can only view\n",
    "editer = User(view | edit) # he can view or edit\n",
    "creater = User(view | edit | create) # he can view, edit or create"
   ]
  },
  {
   "cell_type": "markdown",
   "metadata": {},
   "source": [
    "### Lets check"
   ]
  },
  {
   "cell_type": "code",
   "execution_count": 51,
   "metadata": {},
   "outputs": [
    {
     "name": "stdout",
     "output_type": "stream",
     "text": [
      "1 0 0\n"
     ]
    }
   ],
   "source": [
    "print(viewer.can_view(), viewer.can_edit(), viewer.can_create())"
   ]
  },
  {
   "cell_type": "code",
   "execution_count": 52,
   "metadata": {},
   "outputs": [
    {
     "name": "stdout",
     "output_type": "stream",
     "text": [
      "1 2 0\n"
     ]
    }
   ],
   "source": [
    "print(editer.can_view(), editer.can_edit(), editer.can_create())"
   ]
  },
  {
   "cell_type": "code",
   "execution_count": 53,
   "metadata": {},
   "outputs": [
    {
     "name": "stdout",
     "output_type": "stream",
     "text": [
      "1 2 4\n"
     ]
    }
   ],
   "source": [
    "print(creater.can_view(), creater.can_edit(), creater.can_create())"
   ]
  },
  {
   "cell_type": "code",
   "execution_count": 54,
   "metadata": {},
   "outputs": [
    {
     "name": "stdout",
     "output_type": "stream",
     "text": [
      "No he can't\n"
     ]
    }
   ],
   "source": [
    "if viewer.can_edit():\n",
    "    print(\"Yes he can\")\n",
    "else:\n",
    "    print(\"No he can't\")"
   ]
  },
  {
   "cell_type": "code",
   "execution_count": 55,
   "metadata": {},
   "outputs": [
    {
     "name": "stdout",
     "output_type": "stream",
     "text": [
      "Yes he can\n"
     ]
    }
   ],
   "source": [
    "if viewer.can_view():\n",
    "    print(\"Yes he can\")\n",
    "else:\n",
    "    print(\"No he can't\")"
   ]
  },
  {
   "cell_type": "code",
   "execution_count": 56,
   "metadata": {},
   "outputs": [
    {
     "name": "stdout",
     "output_type": "stream",
     "text": [
      "No he can't\n"
     ]
    }
   ],
   "source": [
    "if viewer.can_create():\n",
    "    print(\"Yes he can\")\n",
    "else:\n",
    "    print(\"No he can't\")"
   ]
  },
  {
   "cell_type": "code",
   "execution_count": 57,
   "metadata": {},
   "outputs": [
    {
     "name": "stdout",
     "output_type": "stream",
     "text": [
      "Yes he can\n"
     ]
    }
   ],
   "source": [
    "if editer.can_view():\n",
    "    print(\"Yes he can\")\n",
    "else:\n",
    "    print(\"No he can't\")"
   ]
  },
  {
   "cell_type": "code",
   "execution_count": 58,
   "metadata": {},
   "outputs": [
    {
     "name": "stdout",
     "output_type": "stream",
     "text": [
      "Yes he can\n"
     ]
    }
   ],
   "source": [
    "if editer.can_edit():\n",
    "    print(\"Yes he can\")\n",
    "else:\n",
    "    print(\"No he can't\")"
   ]
  },
  {
   "cell_type": "code",
   "execution_count": 59,
   "metadata": {},
   "outputs": [
    {
     "name": "stdout",
     "output_type": "stream",
     "text": [
      "No he can't\n"
     ]
    }
   ],
   "source": [
    "if editer.can_create():\n",
    "    print(\"Yes he can\")\n",
    "else:\n",
    "    print(\"No he can't\")"
   ]
  },
  {
   "cell_type": "code",
   "execution_count": 60,
   "metadata": {},
   "outputs": [
    {
     "name": "stdout",
     "output_type": "stream",
     "text": [
      "Yes he can\n"
     ]
    }
   ],
   "source": [
    "if creater.can_create():\n",
    "    print(\"Yes he can\")\n",
    "else:\n",
    "    print(\"No he can't\")"
   ]
  },
  {
   "cell_type": "code",
   "execution_count": 61,
   "metadata": {},
   "outputs": [
    {
     "name": "stdout",
     "output_type": "stream",
     "text": [
      "Yes he can\n"
     ]
    }
   ],
   "source": [
    "if creater.can_edit():\n",
    "    print(\"Yes he can\")\n",
    "else:\n",
    "    print(\"No he can't\")"
   ]
  },
  {
   "cell_type": "code",
   "execution_count": 62,
   "metadata": {},
   "outputs": [
    {
     "name": "stdout",
     "output_type": "stream",
     "text": [
      "Yes he can\n"
     ]
    }
   ],
   "source": [
    "if creater.can_create():\n",
    "    print(\"Yes he can\")\n",
    "else:\n",
    "    print(\"No he can't\")"
   ]
  },
  {
   "cell_type": "markdown",
   "metadata": {},
   "source": [
    "# Shift Operators: << left shit, >> right shift"
   ]
  },
  {
   "cell_type": "code",
   "execution_count": 87,
   "metadata": {},
   "outputs": [
    {
     "data": {
      "text/plain": [
       "2"
      ]
     },
     "execution_count": 87,
     "metadata": {},
     "output_type": "execute_result"
    }
   ],
   "source": [
    "# This can be used to divide or multiply num, for example lets say we have 4 bit\n",
    "# 8 4 2 1\n",
    "# 1 0 0 0 => num 8 \n",
    "# if we right shift 2 bits that is shifting the bits to right we will get\n",
    "# 0 0 1 0 => num 2\n",
    "\n",
    "# In python\n",
    "a = 8 \n",
    "a >> 2\n"
   ]
  },
  {
   "cell_type": "code",
   "execution_count": 89,
   "metadata": {},
   "outputs": [
    {
     "data": {
      "text/plain": [
       "32"
      ]
     },
     "execution_count": 89,
     "metadata": {},
     "output_type": "execute_result"
    }
   ],
   "source": [
    "## same with left shif \n",
    "a = 8 # bits 1000 when we shift it to left 2 bits, it become 100000 = 32\n",
    "# 32 16 8 4 2 1\n",
    "# 1  0  0 0 0 0 \n",
    "a << 2"
   ]
  },
  {
   "cell_type": "code",
   "execution_count": 93,
   "metadata": {
    "collapsed": true
   },
   "outputs": [],
   "source": [
    "a = 1 # bit  001\n",
    "b = 10 \n",
    "c = a << b # will give 10000000000 as bit 1 is shifted left 10 bits"
   ]
  },
  {
   "cell_type": "code",
   "execution_count": 94,
   "metadata": {},
   "outputs": [
    {
     "name": "stdout",
     "output_type": "stream",
     "text": [
      "Decimal: 1024 | Bits: 10000000000\n"
     ]
    }
   ],
   "source": [
    "print_dec_and_bits(c)"
   ]
  },
  {
   "cell_type": "code",
   "execution_count": 19,
   "metadata": {},
   "outputs": [
    {
     "name": "stdout",
     "output_type": "stream",
     "text": [
      "Decimal: 1048576 | Bits: 100000000000000000000\n"
     ]
    }
   ],
   "source": [
    "a = 1 # bit  001\n",
    "b = 20\n",
    "c = a << b # should return 100000000000000000000 as bit 1 is shifted left 20 bits\n",
    "print_dec_and_bits(c)"
   ]
  },
  {
   "cell_type": "code",
   "execution_count": 8,
   "metadata": {
    "collapsed": true
   },
   "outputs": [],
   "source": [
    "a = 1 # 001\n",
    "b = 30 \n",
    "c = a << b #should give 1000000000000000000000000000000"
   ]
  },
  {
   "cell_type": "code",
   "execution_count": 9,
   "metadata": {},
   "outputs": [
    {
     "name": "stdout",
     "output_type": "stream",
     "text": [
      "Decimal: 1073741824 | Bits: 1000000000000000000000000000000\n"
     ]
    }
   ],
   "source": [
    "print_dec_and_bits(c)"
   ]
  },
  {
   "cell_type": "code",
   "execution_count": 28,
   "metadata": {
    "collapsed": true
   },
   "outputs": [],
   "source": [
    "def human_readable(value_bytes):\n",
    "    symbols = ('KB', 'MB', 'GB', 'TB', 'PB', 'EB', 'ZB', 'YB')\n",
    "    prefix = {}\n",
    "    for i, s in enumerate(symbols):\n",
    "        #print(i, s)\n",
    "        prefix[s] = 1 << (i + 1) * 10\n",
    "    print(prefix)\n",
    "    for s in reversed(symbols):\n",
    "        #print(s)\n",
    "        if value_bytes >= prefix[s]:\n",
    "            value = float(value_bytes) / prefix[s]\n",
    "            return '%.2f%s' % (value, s)\n",
    "    return \"%sB\" % value_bytes"
   ]
  },
  {
   "cell_type": "code",
   "execution_count": 29,
   "metadata": {},
   "outputs": [
    {
     "name": "stdout",
     "output_type": "stream",
     "text": [
      "0 KB\n",
      "1 MB\n",
      "2 GB\n",
      "3 TB\n",
      "4 PB\n",
      "5 EB\n",
      "6 ZB\n",
      "7 YB\n",
      "{'KB': 1024, 'MB': 1048576, 'GB': 1073741824, 'TB': 1099511627776, 'PB': 1125899906842624, 'EB': 1152921504606846976, 'ZB': 1180591620717411303424, 'YB': 1208925819614629174706176}\n"
     ]
    },
    {
     "data": {
      "text/plain": [
       "'1.00KB'"
      ]
     },
     "execution_count": 29,
     "metadata": {},
     "output_type": "execute_result"
    }
   ],
   "source": [
    "human_readable(1024)"
   ]
  },
  {
   "cell_type": "code",
   "execution_count": null,
   "metadata": {
    "collapsed": true
   },
   "outputs": [],
   "source": []
  }
 ],
 "metadata": {
  "kernelspec": {
   "display_name": "Python 3",
   "language": "python",
   "name": "python3"
  },
  "language_info": {
   "codemirror_mode": {
    "name": "ipython",
    "version": 3
   },
   "file_extension": ".py",
   "mimetype": "text/x-python",
   "name": "python",
   "nbconvert_exporter": "python",
   "pygments_lexer": "ipython3",
   "version": "3.6.2"
  }
 },
 "nbformat": 4,
 "nbformat_minor": 2
}
