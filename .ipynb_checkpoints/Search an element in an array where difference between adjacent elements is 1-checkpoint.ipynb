{
 "cells": [
  {
   "cell_type": "markdown",
   "metadata": {},
   "source": [
    "Search an element in an array where difference between adjacent elements is 1\n",
    "Given an array where difference between adjacent elements is 1, write an algorithm to search for an element in the array and return the position of the element (return the first occurrence)."
   ]
  },
  {
   "cell_type": "markdown",
   "metadata": {},
   "source": [
    "Examples :\n",
    "\n",
    "Let element to be searched be x\n",
    "\n",
    "Input: arr[] = {8, 7, 6, 7, 6, 5, 4, 3, 2, 3, 4, 3}     \n",
    "       x = 3\n",
    "Output: Element 3 found at index 7\n",
    "\n",
    "Input: arr[] =  {1, 2, 3, 4, 5, 4}\n",
    "       x = 5\n",
    "Output: Element 5 found at index 4"
   ]
  },
  {
   "cell_type": "code",
   "execution_count": 9,
   "metadata": {
    "collapsed": true
   },
   "outputs": [],
   "source": [
    "# Python 3 program to search an element \n",
    "# in an array where difference between\n",
    "# all elements is 1\n",
    " \n",
    "# x is the elmenet to be searched in \n",
    "# arr[0..n-1]\n",
    "def search(arr, n, x):\n",
    " \n",
    "    # Travers the given array starting\n",
    "    # from leftmost element\n",
    "    i = 0\n",
    "    while (i < n):\n",
    "     \n",
    "        # If x is found at index i\n",
    "        if (arr[i] == x):\n",
    "            return i\n",
    " \n",
    "        # Jump the difference between\n",
    "        # current array element and x\n",
    "        i = i + abs(arr[i] - x)\n",
    "        #print(i)\n",
    "     \n",
    "    print(\"number is not present!\")\n",
    "    return -1"
   ]
  },
  {
   "cell_type": "code",
   "execution_count": 11,
   "metadata": {},
   "outputs": [
    {
     "name": "stdout",
     "output_type": "stream",
     "text": [
      "5\n",
      "7\n",
      "Element 3  is present at index  7\n"
     ]
    }
   ],
   "source": [
    "# Driver program to test above function\n",
    "arr = [8 ,7, 6, 7, 6, 5, 4, 3, 2, 3, 4, 3 ]\n",
    "n = len(arr)\n",
    "x = 3\n",
    "print(\"Element\" , x , \" is present at index \",\n",
    "                             search(arr,n,3))"
   ]
  },
  {
   "cell_type": "code",
   "execution_count": 10,
   "metadata": {},
   "outputs": [
    {
     "name": "stdout",
     "output_type": "stream",
     "text": [
      "2\n"
     ]
    }
   ],
   "source": [
    "arr = [1, 0, -1,-2,-1,0,1,2,3]\n",
    "i=0\n",
    "x=3\n",
    "i = i+abs(arr[i] - x)\n",
    "print(i)"
   ]
  },
  {
   "cell_type": "code",
   "execution_count": 12,
   "metadata": {},
   "outputs": [
    {
     "name": "stdout",
     "output_type": "stream",
     "text": [
      "2\n",
      "6\n",
      "8\n",
      "Element 3  is present at index  8\n"
     ]
    }
   ],
   "source": [
    "arr = [1, 0, -1,-2,-1,0,1,2,3]\n",
    "n = len(arr)\n",
    "x = 3\n",
    "print(\"Element\" , x , \" is present at index \",\n",
    "                             search(arr,n,3))"
   ]
  },
  {
   "cell_type": "code",
   "execution_count": null,
   "metadata": {
    "collapsed": true
   },
   "outputs": [],
   "source": []
  }
 ],
 "metadata": {
  "kernelspec": {
   "display_name": "Python 3",
   "language": "python",
   "name": "python3"
  },
  "language_info": {
   "codemirror_mode": {
    "name": "ipython",
    "version": 3
   },
   "file_extension": ".py",
   "mimetype": "text/x-python",
   "name": "python",
   "nbconvert_exporter": "python",
   "pygments_lexer": "ipython3",
   "version": "3.6.3"
  }
 },
 "nbformat": 4,
 "nbformat_minor": 2
}
